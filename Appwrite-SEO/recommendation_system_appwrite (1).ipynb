{
  "nbformat": 4,
  "nbformat_minor": 0,
  "metadata": {
    "colab": {
      "provenance": []
    },
    "kernelspec": {
      "name": "python3",
      "display_name": "Python 3"
    },
    "language_info": {
      "name": "python"
    }
  },
  "cells": [
    {
      "cell_type": "code",
      "execution_count": 1,
      "metadata": {
        "colab": {
          "base_uri": "https://localhost:8080/"
        },
        "id": "ilUPzrFcmmGg",
        "outputId": "57a607c7-eb9d-43c4-9ba0-c60d4588d532"
      },
      "outputs": [
        {
          "output_type": "stream",
          "name": "stdout",
          "text": [
            "Looking in indexes: https://pypi.org/simple, https://us-python.pkg.dev/colab-wheels/public/simple/\n",
            "Collecting appwrite\n",
            "  Downloading appwrite-2.0.0.tar.gz (15 kB)\n",
            "  Preparing metadata (setup.py) ... \u001b[?25l\u001b[?25hdone\n",
            "Requirement already satisfied: requests in /usr/local/lib/python3.10/dist-packages (from appwrite) (2.27.1)\n",
            "Requirement already satisfied: urllib3<1.27,>=1.21.1 in /usr/local/lib/python3.10/dist-packages (from requests->appwrite) (1.26.15)\n",
            "Requirement already satisfied: certifi>=2017.4.17 in /usr/local/lib/python3.10/dist-packages (from requests->appwrite) (2022.12.7)\n",
            "Requirement already satisfied: charset-normalizer~=2.0.0 in /usr/local/lib/python3.10/dist-packages (from requests->appwrite) (2.0.12)\n",
            "Requirement already satisfied: idna<4,>=2.5 in /usr/local/lib/python3.10/dist-packages (from requests->appwrite) (3.4)\n",
            "Building wheels for collected packages: appwrite\n",
            "  Building wheel for appwrite (setup.py) ... \u001b[?25l\u001b[?25hdone\n",
            "  Created wheel for appwrite: filename=appwrite-2.0.0-py3-none-any.whl size=19163 sha256=47562a180d62df3b798dfff98e9ac68436bb356ab5816d30389a4c22fce1cb47\n",
            "  Stored in directory: /root/.cache/pip/wheels/88/9e/05/255b95f90f718434ef7f27e0d0eea0c11e3df78bb34c0ea577\n",
            "Successfully built appwrite\n",
            "Installing collected packages: appwrite\n",
            "Successfully installed appwrite-2.0.0\n"
          ]
        }
      ],
      "source": [
        "pip install appwrite"
      ]
    },
    {
      "cell_type": "code",
      "source": [
        "from appwrite.client import Client\n",
        "from appwrite.services.databases import Databases\n",
        "from appwrite.query import Query\n"
      ],
      "metadata": {
        "id": "Le-cciDpmvFA"
      },
      "execution_count": 2,
      "outputs": []
    },
    {
      "cell_type": "code",
      "source": [
        "  client = Client()\n",
        "  client.set_endpoint('https://cloud.appwrite.io/v1')  # Replace with your Appwrite endpoint\n",
        "  client.set_project('646f96814ce0bd792d15')  # Replace with your Appwrite project ID\n",
        "  client.set_key('6a759c9a8af2d7375898ab12267f78dd571da99ba41508369770c1617dde56198ad379536f31ab7691dc86d1aef7195e1a2469edbb0faf41a2d720bcbb397643bc783aee078310d2d581da685e9f61e784b7694bdb090b361033c5d53fc0e11249c58db5e2d0b138bc0b3e25ef9485d9dfd4102909f0ec09d84f2b400bfa6aa5')  \n",
        "  database_id=\"646f96a60d5767f59620\"\n",
        "  database = Databases(client)\n",
        "  # Fetch order details from the database\n",
        "  collection_id = '64776fc2e21709b916ac'  # Replace with your collection ID\n",
        "  document = database.list_documents(database_id,collection_id,queries=[Query.limit(100)])\n"
      ],
      "metadata": {
        "id": "gyaFQJNWm3n0"
      },
      "execution_count": 3,
      "outputs": []
    },
    {
      "cell_type": "code",
      "source": [
        "print(document)"
      ],
      "metadata": {
        "colab": {
          "base_uri": "https://localhost:8080/"
        },
        "id": "kD2aN5ztqZSx",
        "outputId": "02188d54-022e-4a43-f713-02858e5e4683"
      },
      "execution_count": 4,
      "outputs": [
        {
          "output_type": "stream",
          "name": "stdout",
          "text": [
            "{'total': 78, 'documents': [{'seller_id': '5f9ce6e7-ef83-435e-8e45-eb59ea19de19', 'product_id': 'd7500f4e-9998-4643-9081-9b33b6efe624', 'product_name': 'car', 'product_price': '500', 'product_desc': 'this is a car', 'product_quantity': '4', 'product_img': None, 'product_category': None, 'product_brand': None, '$id': 'd7500f4e-9998-4643-9081-9b33b6efe624', '$createdAt': '2023-06-01T08:00:12.269+00:00', '$updatedAt': '2023-06-01T08:00:12.269+00:00', '$permissions': ['read(\"user:5f9ce6e7-ef83-435e-8e45-eb59ea19de19\")', 'update(\"user:5f9ce6e7-ef83-435e-8e45-eb59ea19de19\")', 'delete(\"user:5f9ce6e7-ef83-435e-8e45-eb59ea19de19\")'], '$collectionId': '64776fc2e21709b916ac', '$databaseId': '646f96a60d5767f59620'}, {'seller_id': '5f9ce6e7-ef83-435e-8e45-eb59ea19de19', 'product_id': 'd1746e77-eef2-4998-a3d6-4271e861dbf4', 'product_name': 'bike', 'product_price': '200', 'product_desc': 'this is a bike', 'product_quantity': '7', 'product_img': None, 'product_category': None, 'product_brand': None, '$id': 'd1746e77-eef2-4998-a3d6-4271e861dbf4', '$createdAt': '2023-06-01T08:00:35.327+00:00', '$updatedAt': '2023-06-01T08:00:35.327+00:00', '$permissions': ['read(\"user:5f9ce6e7-ef83-435e-8e45-eb59ea19de19\")', 'update(\"user:5f9ce6e7-ef83-435e-8e45-eb59ea19de19\")', 'delete(\"user:5f9ce6e7-ef83-435e-8e45-eb59ea19de19\")'], '$collectionId': '64776fc2e21709b916ac', '$databaseId': '646f96a60d5767f59620'}, {'seller_id': '5f9ce6e7-ef83-435e-8e45-eb59ea19de19', 'product_id': 'f56f68e6-150b-4235-b130-95aab14b875f', 'product_name': 'toy', 'product_price': '50', 'product_desc': 'this is a toy', 'product_quantity': '4', 'product_img': None, 'product_category': None, 'product_brand': None, '$id': 'f56f68e6-150b-4235-b130-95aab14b875f', '$createdAt': '2023-06-01T09:19:11.418+00:00', '$updatedAt': '2023-06-01T09:19:11.418+00:00', '$permissions': ['read(\"user:5f9ce6e7-ef83-435e-8e45-eb59ea19de19\")', 'update(\"user:5f9ce6e7-ef83-435e-8e45-eb59ea19de19\")', 'delete(\"user:5f9ce6e7-ef83-435e-8e45-eb59ea19de19\")'], '$collectionId': '64776fc2e21709b916ac', '$databaseId': '646f96a60d5767f59620'}, {'seller_id': '5f9ce6e7-ef83-435e-8e45-eb59ea19de19', 'product_id': 'e00fbdbe-effe-4e1b-b3f5-eb6f7cad53ca', 'product_name': 'tv', 'product_price': '500', 'product_desc': 'this is a toy', 'product_quantity': '8', 'product_img': None, 'product_category': None, 'product_brand': None, '$id': 'e00fbdbe-effe-4e1b-b3f5-eb6f7cad53ca', '$createdAt': '2023-06-01T18:00:21.154+00:00', '$updatedAt': '2023-06-01T18:00:21.154+00:00', '$permissions': ['read(\"user:5f9ce6e7-ef83-435e-8e45-eb59ea19de19\")', 'update(\"user:5f9ce6e7-ef83-435e-8e45-eb59ea19de19\")', 'delete(\"user:5f9ce6e7-ef83-435e-8e45-eb59ea19de19\")'], '$collectionId': '64776fc2e21709b916ac', '$databaseId': '646f96a60d5767f59620'}, {'seller_id': '5f9ce6e7-ef83-435e-8e45-eb59ea19de19', 'product_id': 'a6c9494c-086a-4507-b0a0-51a01c931704', 'product_name': 'car', 'product_price': '500', 'product_desc': 'this is a car', 'product_quantity': '4', 'product_img': None, 'product_category': None, 'product_brand': None, '$id': 'a6c9494c-086a-4507-b0a0-51a01c931704', '$createdAt': '2023-06-01T18:02:27.794+00:00', '$updatedAt': '2023-06-01T18:02:27.794+00:00', '$permissions': ['read(\"user:5f9ce6e7-ef83-435e-8e45-eb59ea19de19\")', 'update(\"user:5f9ce6e7-ef83-435e-8e45-eb59ea19de19\")', 'delete(\"user:5f9ce6e7-ef83-435e-8e45-eb59ea19de19\")'], '$collectionId': '64776fc2e21709b916ac', '$databaseId': '646f96a60d5767f59620'}, {'seller_id': None, 'product_id': None, 'product_name': 'Smartphone X10', 'product_price': '23432', 'product_desc': None, 'product_quantity': None, 'product_img': None, 'product_category': None, 'product_brand': None, '$id': '6479925e2a4f91cdda18', '$createdAt': '2023-06-02T06:55:26.174+00:00', '$updatedAt': '2023-06-02T06:55:26.174+00:00', '$permissions': [], '$collectionId': '64776fc2e21709b916ac', '$databaseId': '646f96a60d5767f59620'}, {'seller_id': None, 'product_id': None, 'product_name': 'Smartphone X20', 'product_price': None, 'product_desc': None, 'product_quantity': None, 'product_img': None, 'product_category': None, 'product_brand': None, '$id': '6479927c2e53377633ae', '$createdAt': '2023-06-02T06:55:56.190+00:00', '$updatedAt': '2023-06-02T06:55:56.190+00:00', '$permissions': [], '$collectionId': '64776fc2e21709b916ac', '$databaseId': '646f96a60d5767f59620'}, {'seller_id': None, 'product_id': None, 'product_name': 'iphone 14', 'product_price': None, 'product_desc': None, 'product_quantity': None, 'product_img': None, 'product_category': None, 'product_brand': None, '$id': '647992856044dbed827d', '$createdAt': '2023-06-02T06:56:05.395+00:00', '$updatedAt': '2023-06-02T06:56:05.395+00:00', '$permissions': [], '$collectionId': '64776fc2e21709b916ac', '$databaseId': '646f96a60d5767f59620'}, {'seller_id': None, 'product_id': None, 'product_name': 'iphone 14 plus', 'product_price': None, 'product_desc': None, 'product_quantity': None, 'product_img': None, 'product_category': None, 'product_brand': None, '$id': '64799291903ba593dd20', '$createdAt': '2023-06-02T06:56:17.591+00:00', '$updatedAt': '2023-06-02T06:56:17.591+00:00', '$permissions': [], '$collectionId': '64776fc2e21709b916ac', '$databaseId': '646f96a60d5767f59620'}, {'seller_id': None, 'product_id': None, 'product_name': 'iphone 14 pro', 'product_price': None, 'product_desc': None, 'product_quantity': None, 'product_img': None, 'product_category': None, 'product_brand': None, '$id': '6479929b099d1ee63cdb', '$createdAt': '2023-06-02T06:56:27.040+00:00', '$updatedAt': '2023-06-02T06:56:27.040+00:00', '$permissions': [], '$collectionId': '64776fc2e21709b916ac', '$databaseId': '646f96a60d5767f59620'}, {'seller_id': None, 'product_id': None, 'product_name': 'iphone 14 pro max', 'product_price': None, 'product_desc': None, 'product_quantity': None, 'product_img': None, 'product_category': None, 'product_brand': None, '$id': '647992aaec6b3d989616', '$createdAt': '2023-06-02T06:56:42.969+00:00', '$updatedAt': '2023-06-02T06:56:42.969+00:00', '$permissions': [], '$collectionId': '64776fc2e21709b916ac', '$databaseId': '646f96a60d5767f59620'}, {'seller_id': '5f9ce6e7-ef83-435e-8e45-eb59ea19de19', 'product_id': '9063220a-d0e5-404a-adaa-0f5be1850e26', 'product_name': 'tv11', 'product_price': '500', 'product_desc': 'this is a toy', 'product_quantity': '4', 'product_img': '13e582be-9d83-4daf-b609-7091e3496b8b', 'product_category': None, 'product_brand': None, '$id': '9063220a-d0e5-404a-adaa-0f5be1850e26', '$createdAt': '2023-06-02T07:29:23.367+00:00', '$updatedAt': '2023-06-02T07:29:23.367+00:00', '$permissions': ['read(\"user:5f9ce6e7-ef83-435e-8e45-eb59ea19de19\")', 'update(\"user:5f9ce6e7-ef83-435e-8e45-eb59ea19de19\")', 'delete(\"user:5f9ce6e7-ef83-435e-8e45-eb59ea19de19\")'], '$collectionId': '64776fc2e21709b916ac', '$databaseId': '646f96a60d5767f59620'}, {'seller_id': '5f9ce6e7-ef83-435e-8e45-eb59ea19de19', 'product_id': 'bdb20336-43b2-4d54-bf6b-86f4dc9f0d52', 'product_name': 'bicycle', 'product_price': '2999', 'product_desc': 'this is cycle', 'product_quantity': '111', 'product_img': '6ee5fc9d-ad3d-4b86-a256-857bbd7a2300', 'product_category': None, 'product_brand': None, '$id': 'bdb20336-43b2-4d54-bf6b-86f4dc9f0d52', '$createdAt': '2023-06-07T15:03:27.458+00:00', '$updatedAt': '2023-06-07T15:03:27.458+00:00', '$permissions': ['read(\"user:5f9ce6e7-ef83-435e-8e45-eb59ea19de19\")', 'update(\"user:5f9ce6e7-ef83-435e-8e45-eb59ea19de19\")', 'delete(\"user:5f9ce6e7-ef83-435e-8e45-eb59ea19de19\")'], '$collectionId': '64776fc2e21709b916ac', '$databaseId': '646f96a60d5767f59620'}, {'seller_id': 'cf42f39a-f3a8-40ca-b1f0-a3e3efed208d1', 'product_id': '6ebc989c-2eb5-4e96-adbe-d772983550f1', 'product_name': 'iPhone 9', 'product_price': '549', 'product_desc': 'An apple mobile which is nothing like apple', 'product_quantity': '94', 'product_img': 'https://i.dummyjson.com/data/products/1/thumbnail.jpg', 'product_category': 'smartphones', 'product_brand': 'Apple', '$id': '62b07d80-c3af-4302-915d-c75af8945396', '$createdAt': '2023-06-09T14:27:41.712+00:00', '$updatedAt': '2023-06-09T14:27:41.712+00:00', '$permissions': ['read(\"user:5f9ce6e7-ef83-435e-8e45-eb59ea19de19\")', 'update(\"user:5f9ce6e7-ef83-435e-8e45-eb59ea19de19\")', 'delete(\"user:5f9ce6e7-ef83-435e-8e45-eb59ea19de19\")'], '$collectionId': '64776fc2e21709b916ac', '$databaseId': '646f96a60d5767f59620'}, {'seller_id': '761fca05-ecc6-4d5f-b036-1403bfb9dbd71', 'product_id': 'ca956cb4-1be2-4731-ac2e-1d4fc2ae37f5', 'product_name': 'Samsung Universe 9', 'product_price': '1249', 'product_desc': \"Samsung's new variant which goes beyond Galaxy to the Universe\", 'product_quantity': '36', 'product_img': 'https://i.dummyjson.com/data/products/3/thumbnail.jpg', 'product_category': 'smartphones', 'product_brand': 'Samsung', '$id': 'c3dfd16a-d61c-4484-8d85-889c3aae33c5', '$createdAt': '2023-06-09T14:27:41.742+00:00', '$updatedAt': '2023-06-09T14:27:41.742+00:00', '$permissions': ['read(\"user:5f9ce6e7-ef83-435e-8e45-eb59ea19de19\")', 'update(\"user:5f9ce6e7-ef83-435e-8e45-eb59ea19de19\")', 'delete(\"user:5f9ce6e7-ef83-435e-8e45-eb59ea19de19\")'], '$collectionId': '64776fc2e21709b916ac', '$databaseId': '646f96a60d5767f59620'}, {'seller_id': 'f9723cc5-fd99-4603-a204-b5d3a9c00f281', 'product_id': '5fc6939a-f185-410d-aece-7ae6c13b8ce5', 'product_name': 'iPhone X', 'product_price': '899', 'product_desc': 'SIM-Free, Model A19211 6.5-inch Super Retina HD display with OLED technology A12 Bionic chip with ...', 'product_quantity': '34', 'product_img': 'https://i.dummyjson.com/data/products/2/thumbnail.jpg', 'product_category': 'smartphones', 'product_brand': 'Apple', '$id': '641bc122-6cf3-4413-ade8-65f0e598c81f', '$createdAt': '2023-06-09T14:27:41.748+00:00', '$updatedAt': '2023-06-09T14:27:41.748+00:00', '$permissions': ['read(\"user:5f9ce6e7-ef83-435e-8e45-eb59ea19de19\")', 'update(\"user:5f9ce6e7-ef83-435e-8e45-eb59ea19de19\")', 'delete(\"user:5f9ce6e7-ef83-435e-8e45-eb59ea19de19\")'], '$collectionId': '64776fc2e21709b916ac', '$databaseId': '646f96a60d5767f59620'}, {'seller_id': 'd5c8f620-08ac-4347-b27f-8a834f1b16db1', 'product_id': 'f48fd8ad-97be-4cc9-8990-7729077a9fa1', 'product_name': 'OPPOF19', 'product_price': '280', 'product_desc': 'OPPO F19 is officially announced on April 2021.', 'product_quantity': '123', 'product_img': 'https://i.dummyjson.com/data/products/4/thumbnail.jpg', 'product_category': 'smartphones', 'product_brand': 'OPPO', '$id': '9d5d4e18-e7ef-45c1-a283-ba9d0e05399a', '$createdAt': '2023-06-09T14:27:41.781+00:00', '$updatedAt': '2023-06-09T14:27:41.781+00:00', '$permissions': ['read(\"user:5f9ce6e7-ef83-435e-8e45-eb59ea19de19\")', 'update(\"user:5f9ce6e7-ef83-435e-8e45-eb59ea19de19\")', 'delete(\"user:5f9ce6e7-ef83-435e-8e45-eb59ea19de19\")'], '$collectionId': '64776fc2e21709b916ac', '$databaseId': '646f96a60d5767f59620'}, {'seller_id': '20f34a65-3354-4944-a4de-9028b3133c7e1', 'product_id': '10d75f14-bc1c-4a51-8606-46f546e9a1e2', 'product_name': 'Huawei P30', 'product_price': '499', 'product_desc': 'Huawei’s re-badged P30 Pro New Edition was officially unveiled yesterday in Germany and now the device has made its way to the UK.', 'product_quantity': '32', 'product_img': 'https://i.dummyjson.com/data/products/5/thumbnail.jpg', 'product_category': 'smartphones', 'product_brand': 'Huawei', '$id': '193dbf66-0e88-4185-83da-a33f85951a7e', '$createdAt': '2023-06-09T14:27:41.788+00:00', '$updatedAt': '2023-06-09T14:27:41.788+00:00', '$permissions': ['read(\"user:5f9ce6e7-ef83-435e-8e45-eb59ea19de19\")', 'update(\"user:5f9ce6e7-ef83-435e-8e45-eb59ea19de19\")', 'delete(\"user:5f9ce6e7-ef83-435e-8e45-eb59ea19de19\")'], '$collectionId': '64776fc2e21709b916ac', '$databaseId': '646f96a60d5767f59620'}, {'seller_id': '77278116-ff34-4bb6-a9a0-c9d7ce64db7e1', 'product_id': 'edf75999-44bb-4d4f-b2e2-9740f9b3f550', 'product_name': 'iPhone 9', 'product_price': '549', 'product_desc': 'An apple mobile which is nothing like apple', 'product_quantity': '94', 'product_img': 'https://i.dummyjson.com/data/products/1/thumbnail.jpg', 'product_category': 'smartphones', 'product_brand': 'Apple', '$id': 'fdfbb44b-5407-4ef7-b889-ed2515740c4e', '$createdAt': '2023-06-09T14:27:42.209+00:00', '$updatedAt': '2023-06-09T14:27:42.209+00:00', '$permissions': ['read(\"user:5f9ce6e7-ef83-435e-8e45-eb59ea19de19\")', 'update(\"user:5f9ce6e7-ef83-435e-8e45-eb59ea19de19\")', 'delete(\"user:5f9ce6e7-ef83-435e-8e45-eb59ea19de19\")'], '$collectionId': '64776fc2e21709b916ac', '$databaseId': '646f96a60d5767f59620'}, {'seller_id': '374a3229-56ba-45bc-a8cd-7a3209c7faf51', 'product_id': 'e7e534f2-6513-4cdd-a231-d7cd3cdd476c', 'product_name': 'iPhone X', 'product_price': '899', 'product_desc': 'SIM-Free, Model A19211 6.5-inch Super Retina HD display with OLED technology A12 Bionic chip with ...', 'product_quantity': '34', 'product_img': 'https://i.dummyjson.com/data/products/2/thumbnail.jpg', 'product_category': 'smartphones', 'product_brand': 'Apple', '$id': '0bf05a33-b4fe-4409-974f-22d7793690e6', '$createdAt': '2023-06-09T14:27:42.222+00:00', '$updatedAt': '2023-06-09T14:27:42.222+00:00', '$permissions': ['read(\"user:5f9ce6e7-ef83-435e-8e45-eb59ea19de19\")', 'update(\"user:5f9ce6e7-ef83-435e-8e45-eb59ea19de19\")', 'delete(\"user:5f9ce6e7-ef83-435e-8e45-eb59ea19de19\")'], '$collectionId': '64776fc2e21709b916ac', '$databaseId': '646f96a60d5767f59620'}, {'seller_id': 'dbcc05ed-15b4-417b-a40f-927f005b82771', 'product_id': 'b535eb59-041b-4cd2-9e6b-f88595eb0e72', 'product_name': 'Samsung Universe 9', 'product_price': '1249', 'product_desc': \"Samsung's new variant which goes beyond Galaxy to the Universe\", 'product_quantity': '36', 'product_img': 'https://i.dummyjson.com/data/products/3/thumbnail.jpg', 'product_category': 'smartphones', 'product_brand': 'Samsung', '$id': '09dfcbd7-c559-44c1-9f53-59e486f10d87', '$createdAt': '2023-06-09T14:27:42.234+00:00', '$updatedAt': '2023-06-09T14:27:42.234+00:00', '$permissions': ['read(\"user:5f9ce6e7-ef83-435e-8e45-eb59ea19de19\")', 'update(\"user:5f9ce6e7-ef83-435e-8e45-eb59ea19de19\")', 'delete(\"user:5f9ce6e7-ef83-435e-8e45-eb59ea19de19\")'], '$collectionId': '64776fc2e21709b916ac', '$databaseId': '646f96a60d5767f59620'}, {'seller_id': '9ddd9389-5b3c-46db-974a-40f0ec12cfa41', 'product_id': '8eca698d-8f77-49c8-9ad8-8bccc518ddf7', 'product_name': 'Huawei P30', 'product_price': '499', 'product_desc': 'Huawei’s re-badged P30 Pro New Edition was officially unveiled yesterday in Germany and now the device has made its way to the UK.', 'product_quantity': '32', 'product_img': 'https://i.dummyjson.com/data/products/5/thumbnail.jpg', 'product_category': 'smartphones', 'product_brand': 'Huawei', '$id': '4b250032-e0a1-49d9-bb3a-4f06c54b94e3', '$createdAt': '2023-06-09T14:27:42.271+00:00', '$updatedAt': '2023-06-09T14:27:42.271+00:00', '$permissions': ['read(\"user:5f9ce6e7-ef83-435e-8e45-eb59ea19de19\")', 'update(\"user:5f9ce6e7-ef83-435e-8e45-eb59ea19de19\")', 'delete(\"user:5f9ce6e7-ef83-435e-8e45-eb59ea19de19\")'], '$collectionId': '64776fc2e21709b916ac', '$databaseId': '646f96a60d5767f59620'}, {'seller_id': 'cd963c02-f518-41ae-a9c2-e7bfd82fda071', 'product_id': 'a8109046-516c-4c15-b752-74d3c33207fb', 'product_name': 'OPPOF19', 'product_price': '280', 'product_desc': 'OPPO F19 is officially announced on April 2021.', 'product_quantity': '123', 'product_img': 'https://i.dummyjson.com/data/products/4/thumbnail.jpg', 'product_category': 'smartphones', 'product_brand': 'OPPO', '$id': 'a99ee575-a3e1-44e8-a876-f42753499b5d', '$createdAt': '2023-06-09T14:27:42.278+00:00', '$updatedAt': '2023-06-09T14:27:42.278+00:00', '$permissions': ['read(\"user:5f9ce6e7-ef83-435e-8e45-eb59ea19de19\")', 'update(\"user:5f9ce6e7-ef83-435e-8e45-eb59ea19de19\")', 'delete(\"user:5f9ce6e7-ef83-435e-8e45-eb59ea19de19\")'], '$collectionId': '64776fc2e21709b916ac', '$databaseId': '646f96a60d5767f59620'}, {'seller_id': '964cd44c-2b16-4b94-bba8-65ec650ed3d31', 'product_id': '93131e75-11f3-455a-9aaa-66ae01eb4510', 'product_name': 'MacBook Pro', 'product_price': '1749', 'product_desc': 'MacBook Pro 2021 with mini-LED display may launch between September, November', 'product_quantity': '83', 'product_img': 'https://i.dummyjson.com/data/products/6/thumbnail.png', 'product_category': 'laptops', 'product_brand': 'Apple', '$id': '3cc91c5a-4bff-4c0b-a933-4451d3df96b4', '$createdAt': '2023-06-09T14:27:42.287+00:00', '$updatedAt': '2023-06-09T14:27:42.287+00:00', '$permissions': ['read(\"user:5f9ce6e7-ef83-435e-8e45-eb59ea19de19\")', 'update(\"user:5f9ce6e7-ef83-435e-8e45-eb59ea19de19\")', 'delete(\"user:5f9ce6e7-ef83-435e-8e45-eb59ea19de19\")'], '$collectionId': '64776fc2e21709b916ac', '$databaseId': '646f96a60d5767f59620'}, {'seller_id': 'e4e01f71-b5dc-4549-a31c-67e391caf8931', 'product_id': 'f43f30c0-a179-4b29-840e-496f3872e87d', 'product_name': 'Samsung Galaxy Book', 'product_price': '1499', 'product_desc': 'Samsung Galaxy Book S (2020) Laptop With Intel Lakefield Chip, 8GB of RAM Launched', 'product_quantity': '50', 'product_img': 'https://i.dummyjson.com/data/products/7/thumbnail.jpg', 'product_category': 'laptops', 'product_brand': 'Samsung', '$id': '3edfb437-b205-4aba-85ab-69d503ee0447', '$createdAt': '2023-06-09T14:27:42.314+00:00', '$updatedAt': '2023-06-09T14:27:42.314+00:00', '$permissions': ['read(\"user:5f9ce6e7-ef83-435e-8e45-eb59ea19de19\")', 'update(\"user:5f9ce6e7-ef83-435e-8e45-eb59ea19de19\")', 'delete(\"user:5f9ce6e7-ef83-435e-8e45-eb59ea19de19\")'], '$collectionId': '64776fc2e21709b916ac', '$databaseId': '646f96a60d5767f59620'}, {'seller_id': 'c25dcdf8-61f3-45e8-9ec6-54785b944f611', 'product_id': '40d9d9a0-1f59-46d0-87f1-cbb93e92fe36', 'product_name': 'Microsoft Surface Laptop 4', 'product_price': '1499', 'product_desc': 'Style and speed. Stand out on HD video calls backed by Studio Mics. Capture ideas on the vibrant touchscreen.', 'product_quantity': '68', 'product_img': 'https://i.dummyjson.com/data/products/8/thumbnail.jpg', 'product_category': 'laptops', 'product_brand': 'Microsoft Surface', '$id': '11e6c92e-29d7-4c5f-b346-5edbf3aa49cc', '$createdAt': '2023-06-09T14:27:42.342+00:00', '$updatedAt': '2023-06-09T14:27:42.342+00:00', '$permissions': ['read(\"user:5f9ce6e7-ef83-435e-8e45-eb59ea19de19\")', 'update(\"user:5f9ce6e7-ef83-435e-8e45-eb59ea19de19\")', 'delete(\"user:5f9ce6e7-ef83-435e-8e45-eb59ea19de19\")'], '$collectionId': '64776fc2e21709b916ac', '$databaseId': '646f96a60d5767f59620'}, {'seller_id': '65f1a3ef-b476-42e2-a9e1-91a67be4ede61', 'product_id': '51625834-bc10-4092-9fc5-d255494ed2e4', 'product_name': 'perfume Oil', 'product_price': '13', 'product_desc': 'Mega Discount, Impression of Acqua Di Gio by GiorgioArmani concentrated attar perfume Oil', 'product_quantity': '65', 'product_img': 'https://i.dummyjson.com/data/products/11/thumbnail.jpg', 'product_category': 'fragrances', 'product_brand': 'Impression of Acqua Di Gio', '$id': '0f4afec4-8102-4d75-bbdd-b0f80cbfa457', '$createdAt': '2023-06-09T14:27:43.936+00:00', '$updatedAt': '2023-06-09T14:27:43.936+00:00', '$permissions': ['read(\"user:5f9ce6e7-ef83-435e-8e45-eb59ea19de19\")', 'update(\"user:5f9ce6e7-ef83-435e-8e45-eb59ea19de19\")', 'delete(\"user:5f9ce6e7-ef83-435e-8e45-eb59ea19de19\")'], '$collectionId': '64776fc2e21709b916ac', '$databaseId': '646f96a60d5767f59620'}, {'seller_id': 'e3813705-1a71-464c-ace9-b49267efa1bb1', 'product_id': '188da7f1-36e4-4823-b0e3-a311849fa88c', 'product_name': 'Tree Oil 30ml', 'product_price': '12', 'product_desc': 'Tea tree oil contains a number of compounds, including terpinen-4-ol, that have been shown to kill certain bacteria,', 'product_quantity': '78', 'product_img': 'https://i.dummyjson.com/data/products/17/thumbnail.jpg', 'product_category': 'skincare', 'product_brand': 'Hemani Tea', '$id': 'ec315b72-eef3-4bdc-8989-80f6277bd7ab', '$createdAt': '2023-06-09T14:27:43.941+00:00', '$updatedAt': '2023-06-09T14:27:43.941+00:00', '$permissions': ['read(\"user:5f9ce6e7-ef83-435e-8e45-eb59ea19de19\")', 'update(\"user:5f9ce6e7-ef83-435e-8e45-eb59ea19de19\")', 'delete(\"user:5f9ce6e7-ef83-435e-8e45-eb59ea19de19\")'], '$collectionId': '64776fc2e21709b916ac', '$databaseId': '646f96a60d5767f59620'}, {'seller_id': 'a8eede3d-6a10-4d47-a70b-b0acc7892e821', 'product_id': 'f736c1fe-9162-4fa2-a1a3-654418f16d48', 'product_name': 'HP Pavilion 15-DK1056WM', 'product_price': '1099', 'product_desc': 'HP Pavilion 15-DK1056WM Gaming Laptop 10th Gen Core i5, 8GB, 256GB SSD, GTX 1650 4GB, Windows 10', 'product_quantity': '89', 'product_img': 'https://i.dummyjson.com/data/products/10/thumbnail.jpeg', 'product_category': 'laptops', 'product_brand': 'HP Pavilion', '$id': 'dbb645e7-7624-45b6-a428-15038ed8a08b', '$createdAt': '2023-06-09T14:27:43.941+00:00', '$updatedAt': '2023-06-09T14:27:43.941+00:00', '$permissions': ['read(\"user:5f9ce6e7-ef83-435e-8e45-eb59ea19de19\")', 'update(\"user:5f9ce6e7-ef83-435e-8e45-eb59ea19de19\")', 'delete(\"user:5f9ce6e7-ef83-435e-8e45-eb59ea19de19\")'], '$collectionId': '64776fc2e21709b916ac', '$databaseId': '646f96a60d5767f59620'}, {'seller_id': '9528fdb6-d382-4bc8-a72f-6285b2db1d8e1', 'product_id': 'b6992c0a-edb1-40b1-a6ab-43feab159164', 'product_name': 'Brown Perfume', 'product_price': '40', 'product_desc': 'Royal_Mirage Sport Brown Perfume for Men & Women - 120ml', 'product_quantity': '52', 'product_img': 'https://i.dummyjson.com/data/products/12/thumbnail.jpg', 'product_category': 'fragrances', 'product_brand': 'Royal_Mirage', '$id': '97f30b77-9f53-42bd-bda3-0d569d219b34', '$createdAt': '2023-06-09T14:27:43.950+00:00', '$updatedAt': '2023-06-09T14:27:43.950+00:00', '$permissions': ['read(\"user:5f9ce6e7-ef83-435e-8e45-eb59ea19de19\")', 'update(\"user:5f9ce6e7-ef83-435e-8e45-eb59ea19de19\")', 'delete(\"user:5f9ce6e7-ef83-435e-8e45-eb59ea19de19\")'], '$collectionId': '64776fc2e21709b916ac', '$databaseId': '646f96a60d5767f59620'}, {'seller_id': '7ed2bf00-123a-4de6-8e4d-38c1740b095b1', 'product_id': '444778a7-941b-4cb9-8cea-ebc28e169943', 'product_name': 'cereals muesli fruit nuts', 'product_price': '46', 'product_desc': 'original fauji cereal muesli 250gm box pack original fauji cereals muesli fruit nuts flakes breakfast cereal break fast faujicereals cerels cerel foji fouji', 'product_quantity': '113', 'product_img': 'https://i.dummyjson.com/data/products/24/thumbnail.jpg', 'product_category': 'groceries', 'product_brand': 'fauji', '$id': '4e40ca0c-2807-45ce-b7d2-5d372cc469e4', '$createdAt': '2023-06-09T14:27:43.948+00:00', '$updatedAt': '2023-06-09T14:27:43.948+00:00', '$permissions': ['read(\"user:5f9ce6e7-ef83-435e-8e45-eb59ea19de19\")', 'update(\"user:5f9ce6e7-ef83-435e-8e45-eb59ea19de19\")', 'delete(\"user:5f9ce6e7-ef83-435e-8e45-eb59ea19de19\")'], '$collectionId': '64776fc2e21709b916ac', '$databaseId': '646f96a60d5767f59620'}, {'seller_id': 'e4131de3-5ee1-46d7-a464-0224a72653581', 'product_id': 'b087b41c-cfe6-4c95-b781-c1f90ea785c7', 'product_name': 'Hyaluronic Acid Serum', 'product_price': '19', 'product_desc': \"L'OrÃ©al Paris introduces Hyaluron Expert Replumping Serum formulated with 1.5% Hyaluronic Acid\", 'product_quantity': '110', 'product_img': 'https://i.dummyjson.com/data/products/16/thumbnail.jpg', 'product_category': 'skincare', 'product_brand': \"L'Oreal Paris\", '$id': '5b587a5a-9fa8-47b4-8a37-6c2faa119719', '$createdAt': '2023-06-09T14:27:43.948+00:00', '$updatedAt': '2023-06-09T14:27:43.948+00:00', '$permissions': ['read(\"user:5f9ce6e7-ef83-435e-8e45-eb59ea19de19\")', 'update(\"user:5f9ce6e7-ef83-435e-8e45-eb59ea19de19\")', 'delete(\"user:5f9ce6e7-ef83-435e-8e45-eb59ea19de19\")'], '$collectionId': '64776fc2e21709b916ac', '$databaseId': '646f96a60d5767f59620'}, {'seller_id': '8ef3a057-8b33-4e1e-a832-0e6b6b9f9cf61', 'product_id': 'e65df61a-a59a-4000-9f48-942d3b9b147d', 'product_name': 'Plant Hanger For Home', 'product_price': '41', 'product_desc': 'Boho Decor Plant Hanger For Home Wall Decoration Macrame Wall Hanging Shelf', 'product_quantity': '131', 'product_img': 'https://i.dummyjson.com/data/products/26/thumbnail.jpg', 'product_category': 'home-decoration', 'product_brand': 'Boho Decor', '$id': '31d6ea37-394d-458e-a8f1-8385217f5a9e', '$createdAt': '2023-06-09T14:27:43.956+00:00', '$updatedAt': '2023-06-09T14:27:43.956+00:00', '$permissions': ['read(\"user:5f9ce6e7-ef83-435e-8e45-eb59ea19de19\")', 'update(\"user:5f9ce6e7-ef83-435e-8e45-eb59ea19de19\")', 'delete(\"user:5f9ce6e7-ef83-435e-8e45-eb59ea19de19\")'], '$collectionId': '64776fc2e21709b916ac', '$databaseId': '646f96a60d5767f59620'}, {'seller_id': '5f3e9704-cb22-420f-9ff2-6a44a4c390231', 'product_id': '46b1b56c-3453-41b3-b106-e07271c53c24', 'product_name': 'Non-Alcoholic Concentrated Perfume Oil', 'product_price': '120', 'product_desc': 'Original Al Munakh® by Mahal Al Musk | Our Impression of Climate | 6ml Non-Alcoholic Concentrated Perfume Oil', 'product_quantity': '114', 'product_img': 'https://i.dummyjson.com/data/products/14/thumbnail.jpg', 'product_category': 'fragrances', 'product_brand': 'Al Munakh', '$id': '2228455a-5291-4fe2-a1e0-1e3f3d259eff', '$createdAt': '2023-06-09T14:27:43.961+00:00', '$updatedAt': '2023-06-09T14:27:43.961+00:00', '$permissions': ['read(\"user:5f9ce6e7-ef83-435e-8e45-eb59ea19de19\")', 'update(\"user:5f9ce6e7-ef83-435e-8e45-eb59ea19de19\")', 'delete(\"user:5f9ce6e7-ef83-435e-8e45-eb59ea19de19\")'], '$collectionId': '64776fc2e21709b916ac', '$databaseId': '646f96a60d5767f59620'}, {'seller_id': '7ed23ccc-a1a9-4434-9dbe-0f07cf2426101', 'product_id': 'ed81b109-505a-4afc-99d8-67ec3eb83c66', 'product_name': 'Fog Scent Xpressio Perfume', 'product_price': '13', 'product_desc': 'Product details of Best Fog Scent Xpressio Perfume 100ml For Men cool long lasting perfumes for Men', 'product_quantity': '61', 'product_img': 'https://i.dummyjson.com/data/products/13/thumbnail.webp', 'product_category': 'fragrances', 'product_brand': 'Fog Scent Xpressio', '$id': '0443acee-f17b-4beb-8fb9-6cde595b1582', '$createdAt': '2023-06-09T14:27:43.964+00:00', '$updatedAt': '2023-06-09T14:27:43.964+00:00', '$permissions': ['read(\"user:5f9ce6e7-ef83-435e-8e45-eb59ea19de19\")', 'update(\"user:5f9ce6e7-ef83-435e-8e45-eb59ea19de19\")', 'delete(\"user:5f9ce6e7-ef83-435e-8e45-eb59ea19de19\")'], '$collectionId': '64776fc2e21709b916ac', '$databaseId': '646f96a60d5767f59620'}, {'seller_id': 'd6262ebc-6fc9-4a9c-a715-a43ffad814821', 'product_id': 'c9761697-f6a5-42c4-92c7-0547721bf1c2', 'product_name': 'iPhone X', 'product_price': '899', 'product_desc': 'SIM-Free, Model A19211 6.5-inch Super Retina HD display with OLED technology A12 Bionic chip with ...', 'product_quantity': '34', 'product_img': 'https://i.dummyjson.com/data/products/2/thumbnail.jpg', 'product_category': 'smartphones', 'product_brand': 'Apple', '$id': 'a49b5bed-d567-4341-a7f5-5e982d4f35b8', '$createdAt': '2023-06-09T14:27:43.965+00:00', '$updatedAt': '2023-06-09T14:27:43.965+00:00', '$permissions': ['read(\"user:5f9ce6e7-ef83-435e-8e45-eb59ea19de19\")', 'update(\"user:5f9ce6e7-ef83-435e-8e45-eb59ea19de19\")', 'delete(\"user:5f9ce6e7-ef83-435e-8e45-eb59ea19de19\")'], '$collectionId': '64776fc2e21709b916ac', '$databaseId': '646f96a60d5767f59620'}, {'seller_id': '057d95ff-d062-481d-9012-dcbd23b0e7a91', 'product_id': 'f7d721ab-4931-410a-a930-fafd087928ae', 'product_name': 'Elbow Macaroni - 400 gm', 'product_price': '14', 'product_desc': 'Product details of Bake Parlor Big Elbow Macaroni - 400 gm', 'product_quantity': '146', 'product_img': 'https://i.dummyjson.com/data/products/22/thumbnail.jpg', 'product_category': 'groceries', 'product_brand': 'Bake Parlor Big', '$id': 'f2c69770-c400-4833-92a9-e2c2e7bfa7eb', '$createdAt': '2023-06-09T14:27:43.968+00:00', '$updatedAt': '2023-06-09T14:27:43.968+00:00', '$permissions': ['read(\"user:5f9ce6e7-ef83-435e-8e45-eb59ea19de19\")', 'update(\"user:5f9ce6e7-ef83-435e-8e45-eb59ea19de19\")', 'delete(\"user:5f9ce6e7-ef83-435e-8e45-eb59ea19de19\")'], '$collectionId': '64776fc2e21709b916ac', '$databaseId': '646f96a60d5767f59620'}, {'seller_id': 'f79b4b87-996b-4f69-b6d2-de73eb041ec91', 'product_id': 'd2f5bfc0-e75d-4a08-b618-6424f7597d7d', 'product_name': 'Oil Free Moisturizer 100ml', 'product_price': '40', 'product_desc': 'Dermive Oil Free Moisturizer with SPF 20 is specifically formulated with ceramides, hyaluronic acid & sunscreen.', 'product_quantity': '88', 'product_img': 'https://i.dummyjson.com/data/products/18/thumbnail.jpg', 'product_category': 'skincare', 'product_brand': 'Dermive', '$id': '3917db2f-a549-406a-8298-ee1a669be108', '$createdAt': '2023-06-09T14:27:43.971+00:00', '$updatedAt': '2023-06-09T14:27:43.971+00:00', '$permissions': ['read(\"user:5f9ce6e7-ef83-435e-8e45-eb59ea19de19\")', 'update(\"user:5f9ce6e7-ef83-435e-8e45-eb59ea19de19\")', 'delete(\"user:5f9ce6e7-ef83-435e-8e45-eb59ea19de19\")'], '$collectionId': '64776fc2e21709b916ac', '$databaseId': '646f96a60d5767f59620'}, {'seller_id': 'f82f80fb-b549-486e-892c-4776260392791', 'product_id': '06f52fac-a77d-4fe5-8c5c-9f0d0b93bd57', 'product_name': 'Gulab Powder 50 Gram', 'product_price': '70', 'product_desc': 'Dry Rose Flower Powder Gulab Powder 50 Gram • Treats Wounds', 'product_quantity': '47', 'product_img': 'https://i.dummyjson.com/data/products/25/thumbnail.jpg', 'product_category': 'groceries', 'product_brand': 'Dry Rose', '$id': 'dedf0518-0aad-4f8e-bcc6-6340283a853a', '$createdAt': '2023-06-09T14:27:43.983+00:00', '$updatedAt': '2023-06-09T14:27:43.983+00:00', '$permissions': ['read(\"user:5f9ce6e7-ef83-435e-8e45-eb59ea19de19\")', 'update(\"user:5f9ce6e7-ef83-435e-8e45-eb59ea19de19\")', 'delete(\"user:5f9ce6e7-ef83-435e-8e45-eb59ea19de19\")'], '$collectionId': '64776fc2e21709b916ac', '$databaseId': '646f96a60d5767f59620'}, {'seller_id': 'b468d9f0-dee7-4070-a772-6197be89ef5a1', 'product_id': '39f8c5e7-7c28-467f-8a12-f37deec6c169', 'product_name': 'Orange Essence Food Flavou', 'product_price': '14', 'product_desc': 'Specifications of Orange Essence Food Flavour For Cakes and Baking Food Item', 'product_quantity': '26', 'product_img': 'https://i.dummyjson.com/data/products/23/thumbnail.jpg', 'product_category': 'groceries', 'product_brand': 'Baking Food Items', '$id': '811d7931-dbf1-4c2e-9016-82003adbd350', '$createdAt': '2023-06-09T14:27:43.990+00:00', '$updatedAt': '2023-06-09T14:27:43.990+00:00', '$permissions': ['read(\"user:5f9ce6e7-ef83-435e-8e45-eb59ea19de19\")', 'update(\"user:5f9ce6e7-ef83-435e-8e45-eb59ea19de19\")', 'delete(\"user:5f9ce6e7-ef83-435e-8e45-eb59ea19de19\")'], '$collectionId': '64776fc2e21709b916ac', '$databaseId': '646f96a60d5767f59620'}, {'seller_id': 'b981e157-0b29-4fa8-9e1b-835bc8bc9da21', 'product_id': 'ce466d9c-8d1c-4c9c-af74-6f68937581c3', 'product_name': 'perfume Oil', 'product_price': '13', 'product_desc': 'Mega Discount, Impression of Acqua Di Gio by GiorgioArmani concentrated attar perfume Oil', 'product_quantity': '65', 'product_img': 'https://i.dummyjson.com/data/products/11/thumbnail.jpg', 'product_category': 'fragrances', 'product_brand': 'Impression of Acqua Di Gio', '$id': '3e245240-aba7-40bb-a976-aca31d7a1b51', '$createdAt': '2023-06-09T14:27:43.999+00:00', '$updatedAt': '2023-06-09T14:27:43.999+00:00', '$permissions': ['read(\"user:5f9ce6e7-ef83-435e-8e45-eb59ea19de19\")', 'update(\"user:5f9ce6e7-ef83-435e-8e45-eb59ea19de19\")', 'delete(\"user:5f9ce6e7-ef83-435e-8e45-eb59ea19de19\")'], '$collectionId': '64776fc2e21709b916ac', '$databaseId': '646f96a60d5767f59620'}, {'seller_id': 'b6f5577e-00f8-4197-807e-f36ef0abb3781', 'product_id': '5050a144-4010-421f-bb2c-83ebac3e2dd6', 'product_name': '- Daal Masoor 500 grams', 'product_price': '20', 'product_desc': 'Fine quality Branded Product Keep in a cool and dry place', 'product_quantity': '133', 'product_img': 'https://i.dummyjson.com/data/products/21/thumbnail.png', 'product_category': 'groceries', 'product_brand': 'Saaf & Khaas', '$id': '501f6c32-1f97-471e-8575-c792d42f008f', '$createdAt': '2023-06-09T14:27:43.999+00:00', '$updatedAt': '2023-06-09T14:27:43.999+00:00', '$permissions': ['read(\"user:5f9ce6e7-ef83-435e-8e45-eb59ea19de19\")', 'update(\"user:5f9ce6e7-ef83-435e-8e45-eb59ea19de19\")', 'delete(\"user:5f9ce6e7-ef83-435e-8e45-eb59ea19de19\")'], '$collectionId': '64776fc2e21709b916ac', '$databaseId': '646f96a60d5767f59620'}, {'seller_id': 'edef91ab-cb3f-4043-9bb1-fad12cb463a51', 'product_id': '712e66b5-1048-4160-b143-785913d0534d', 'product_name': 'Skin Beauty Serum.', 'product_price': '46', 'product_desc': 'Product name: rorec collagen hyaluronic acid white face serum riceNet weight: 15 m', 'product_quantity': '54', 'product_img': 'https://i.dummyjson.com/data/products/19/thumbnail.jpg', 'product_category': 'skincare', 'product_brand': 'ROREC White Rice', '$id': 'ddb31d6e-4495-409b-920e-71c9acebc83c', '$createdAt': '2023-06-09T14:27:43.999+00:00', '$updatedAt': '2023-06-09T14:27:43.999+00:00', '$permissions': ['read(\"user:5f9ce6e7-ef83-435e-8e45-eb59ea19de19\")', 'update(\"user:5f9ce6e7-ef83-435e-8e45-eb59ea19de19\")', 'delete(\"user:5f9ce6e7-ef83-435e-8e45-eb59ea19de19\")'], '$collectionId': '64776fc2e21709b916ac', '$databaseId': '646f96a60d5767f59620'}, {'seller_id': 'ceb21a06-04af-4b70-9872-51ea2ccc9f311', 'product_id': '1a30abdf-0518-4aa5-be68-1a977243f004', 'product_name': 'Infinix INBOOK', 'product_price': '1099', 'product_desc': 'Infinix Inbook X1 Ci3 10th 8GB 256GB 14 Win10 Grey – 1 Year Warranty', 'product_quantity': '96', 'product_img': 'https://i.dummyjson.com/data/products/9/thumbnail.jpg', 'product_category': 'laptops', 'product_brand': 'Infinix', '$id': 'eeeb5e58-0854-443b-97e6-a436060f0839', '$createdAt': '2023-06-09T14:27:44.002+00:00', '$updatedAt': '2023-06-09T14:27:44.002+00:00', '$permissions': ['read(\"user:5f9ce6e7-ef83-435e-8e45-eb59ea19de19\")', 'update(\"user:5f9ce6e7-ef83-435e-8e45-eb59ea19de19\")', 'delete(\"user:5f9ce6e7-ef83-435e-8e45-eb59ea19de19\")'], '$collectionId': '64776fc2e21709b916ac', '$databaseId': '646f96a60d5767f59620'}, {'seller_id': '9385bb1c-939d-495f-876e-e8adfe71cd9b1', 'product_id': 'c609ee22-91d0-4064-8b51-4fc0b8e730cf', 'product_name': 'Handcraft Chinese style', 'product_price': '60', 'product_desc': 'Handcraft Chinese style art luxury palace hotel villa mansion home decor ceramic vase with brass fruit plate', 'product_quantity': '7', 'product_img': 'https://i.dummyjson.com/data/products/29/thumbnail.webp', 'product_category': 'home-decoration', 'product_brand': 'luxury palace', '$id': 'a94715d8-e969-49a9-bd05-50717e8bad8c', '$createdAt': '2023-06-09T14:27:44.010+00:00', '$updatedAt': '2023-06-09T14:27:44.010+00:00', '$permissions': ['read(\"user:5f9ce6e7-ef83-435e-8e45-eb59ea19de19\")', 'update(\"user:5f9ce6e7-ef83-435e-8e45-eb59ea19de19\")', 'delete(\"user:5f9ce6e7-ef83-435e-8e45-eb59ea19de19\")'], '$collectionId': '64776fc2e21709b916ac', '$databaseId': '646f96a60d5767f59620'}, {'seller_id': 'ddf94046-0085-4d4d-9365-54f478be16d91', 'product_id': '0c87a2a7-6af6-410a-9adf-b374f374712d', 'product_name': 'OPPOF19', 'product_price': '280', 'product_desc': 'OPPO F19 is officially announced on April 2021.', 'product_quantity': '123', 'product_img': 'https://i.dummyjson.com/data/products/4/thumbnail.jpg', 'product_category': 'smartphones', 'product_brand': 'OPPO', '$id': '3aeeef44-86ba-4677-af6a-a0de8d3b45fa', '$createdAt': '2023-06-09T14:27:44.010+00:00', '$updatedAt': '2023-06-09T14:27:44.010+00:00', '$permissions': ['read(\"user:5f9ce6e7-ef83-435e-8e45-eb59ea19de19\")', 'update(\"user:5f9ce6e7-ef83-435e-8e45-eb59ea19de19\")', 'delete(\"user:5f9ce6e7-ef83-435e-8e45-eb59ea19de19\")'], '$collectionId': '64776fc2e21709b916ac', '$databaseId': '646f96a60d5767f59620'}, {'seller_id': '591a31b7-ab20-4a9f-b95e-e426f3ac1d2c1', 'product_id': '9f077c35-99c0-4fa4-b450-065cc738abfb', 'product_name': 'Brown Perfume', 'product_price': '40', 'product_desc': 'Royal_Mirage Sport Brown Perfume for Men & Women - 120ml', 'product_quantity': '52', 'product_img': 'https://i.dummyjson.com/data/products/12/thumbnail.jpg', 'product_category': 'fragrances', 'product_brand': 'Royal_Mirage', '$id': '56460eb6-8520-4585-ac5b-0fb79ed4e160', '$createdAt': '2023-06-09T14:27:44.015+00:00', '$updatedAt': '2023-06-09T14:27:44.015+00:00', '$permissions': ['read(\"user:5f9ce6e7-ef83-435e-8e45-eb59ea19de19\")', 'update(\"user:5f9ce6e7-ef83-435e-8e45-eb59ea19de19\")', 'delete(\"user:5f9ce6e7-ef83-435e-8e45-eb59ea19de19\")'], '$collectionId': '64776fc2e21709b916ac', '$databaseId': '646f96a60d5767f59620'}, {'seller_id': 'e8cca3db-7e67-4348-8831-0f7f918fd1601', 'product_id': '641e94e0-f4df-4c62-a521-fedcdb2fae98', 'product_name': 'Flying Wooden Bird', 'product_price': '51', 'product_desc': 'Package Include 6 Birds with Adhesive Tape Shape: 3D Shaped Wooden Birds Material: Wooden MDF, Laminated 3.5mm', 'product_quantity': '17', 'product_img': 'https://i.dummyjson.com/data/products/27/thumbnail.webp', 'product_category': 'home-decoration', 'product_brand': 'Flying Wooden', '$id': '5518bb6c-07cf-4187-9486-e8185bebc281', '$createdAt': '2023-06-09T14:27:44.015+00:00', '$updatedAt': '2023-06-09T14:27:44.015+00:00', '$permissions': ['read(\"user:5f9ce6e7-ef83-435e-8e45-eb59ea19de19\")', 'update(\"user:5f9ce6e7-ef83-435e-8e45-eb59ea19de19\")', 'delete(\"user:5f9ce6e7-ef83-435e-8e45-eb59ea19de19\")'], '$collectionId': '64776fc2e21709b916ac', '$databaseId': '646f96a60d5767f59620'}, {'seller_id': '5645cc76-e173-4653-977f-360a3ae5d8f21', 'product_id': 'a5e99f81-944c-4a76-8398-42ca2ff2e8ee', 'product_name': 'Elbow Macaroni - 400 gm', 'product_price': '14', 'product_desc': 'Product details of Bake Parlor Big Elbow Macaroni - 400 gm', 'product_quantity': '146', 'product_img': 'https://i.dummyjson.com/data/products/22/thumbnail.jpg', 'product_category': 'groceries', 'product_brand': 'Bake Parlor Big', '$id': 'bc63e380-ad8a-4190-816f-c9ac801d3407', '$createdAt': '2023-06-09T14:27:44.017+00:00', '$updatedAt': '2023-06-09T14:27:44.017+00:00', '$permissions': ['read(\"user:5f9ce6e7-ef83-435e-8e45-eb59ea19de19\")', 'update(\"user:5f9ce6e7-ef83-435e-8e45-eb59ea19de19\")', 'delete(\"user:5f9ce6e7-ef83-435e-8e45-eb59ea19de19\")'], '$collectionId': '64776fc2e21709b916ac', '$databaseId': '646f96a60d5767f59620'}, {'seller_id': 'a07307eb-d18f-4578-8736-db71d25d1c901', 'product_id': '46cfdaab-c2b2-4d23-88c8-1b904ceff3bc', 'product_name': 'Tree Oil 30ml', 'product_price': '12', 'product_desc': 'Tea tree oil contains a number of compounds, including terpinen-4-ol, that have been shown to kill certain bacteria,', 'product_quantity': '78', 'product_img': 'https://i.dummyjson.com/data/products/17/thumbnail.jpg', 'product_category': 'skincare', 'product_brand': 'Hemani Tea', '$id': '35443433-5e77-42eb-bbfe-f4922bc5d783', '$createdAt': '2023-06-09T14:27:44.017+00:00', '$updatedAt': '2023-06-09T14:27:44.017+00:00', '$permissions': ['read(\"user:5f9ce6e7-ef83-435e-8e45-eb59ea19de19\")', 'update(\"user:5f9ce6e7-ef83-435e-8e45-eb59ea19de19\")', 'delete(\"user:5f9ce6e7-ef83-435e-8e45-eb59ea19de19\")'], '$collectionId': '64776fc2e21709b916ac', '$databaseId': '646f96a60d5767f59620'}, {'seller_id': '04cd14bb-0403-4036-a29a-c1e819bb305b1', 'product_id': '185d2447-02ea-4534-aa5d-955ae039086c', 'product_name': 'Samsung Galaxy Book', 'product_price': '1499', 'product_desc': 'Samsung Galaxy Book S (2020) Laptop With Intel Lakefield Chip, 8GB of RAM Launched', 'product_quantity': '50', 'product_img': 'https://i.dummyjson.com/data/products/7/thumbnail.jpg', 'product_category': 'laptops', 'product_brand': 'Samsung', '$id': '1bf21e2e-b3ef-4e45-bb41-10313450c4e5', '$createdAt': '2023-06-09T14:27:44.023+00:00', '$updatedAt': '2023-06-09T14:27:44.023+00:00', '$permissions': ['read(\"user:5f9ce6e7-ef83-435e-8e45-eb59ea19de19\")', 'update(\"user:5f9ce6e7-ef83-435e-8e45-eb59ea19de19\")', 'delete(\"user:5f9ce6e7-ef83-435e-8e45-eb59ea19de19\")'], '$collectionId': '64776fc2e21709b916ac', '$databaseId': '646f96a60d5767f59620'}, {'seller_id': 'e4ded24f-3220-4032-83d3-0fd6f7633fb51', 'product_id': 'c8d661bb-17df-4b45-93f1-5ddeb7e4a7f7', 'product_name': 'Skin Beauty Serum.', 'product_price': '46', 'product_desc': 'Product name: rorec collagen hyaluronic acid white face serum riceNet weight: 15 m', 'product_quantity': '54', 'product_img': 'https://i.dummyjson.com/data/products/19/thumbnail.jpg', 'product_category': 'skincare', 'product_brand': 'ROREC White Rice', '$id': '740fe6c5-c21a-4b7e-9f97-241f81a9cbe3', '$createdAt': '2023-06-09T14:27:44.023+00:00', '$updatedAt': '2023-06-09T14:27:44.023+00:00', '$permissions': ['read(\"user:5f9ce6e7-ef83-435e-8e45-eb59ea19de19\")', 'update(\"user:5f9ce6e7-ef83-435e-8e45-eb59ea19de19\")', 'delete(\"user:5f9ce6e7-ef83-435e-8e45-eb59ea19de19\")'], '$collectionId': '64776fc2e21709b916ac', '$databaseId': '646f96a60d5767f59620'}, {'seller_id': '56eee5a5-9171-49d1-b35f-0528bd5061641', 'product_id': '06fbc72b-881c-4813-a79e-55c7d2312035', 'product_name': 'Eau De Perfume Spray', 'product_price': '30', 'product_desc': 'Genuine  Al-Rehab spray perfume from UAE/Saudi Arabia/Yemen High Quality', 'product_quantity': '105', 'product_img': 'https://i.dummyjson.com/data/products/15/thumbnail.jpg', 'product_category': 'fragrances', 'product_brand': 'Lord - Al-Rehab', '$id': '1a00b2cf-1772-424a-88d4-f41897048aad', '$createdAt': '2023-06-09T14:27:44.021+00:00', '$updatedAt': '2023-06-09T14:27:44.021+00:00', '$permissions': ['read(\"user:5f9ce6e7-ef83-435e-8e45-eb59ea19de19\")', 'update(\"user:5f9ce6e7-ef83-435e-8e45-eb59ea19de19\")', 'delete(\"user:5f9ce6e7-ef83-435e-8e45-eb59ea19de19\")'], '$collectionId': '64776fc2e21709b916ac', '$databaseId': '646f96a60d5767f59620'}, {'seller_id': '548f3c77-e270-4db4-912c-6c06adac1e401', 'product_id': 'f8987a0f-323c-44d8-b6fe-aa65ba45e44e', 'product_name': 'Huawei P30', 'product_price': '499', 'product_desc': 'Huawei’s re-badged P30 Pro New Edition was officially unveiled yesterday in Germany and now the device has made its way to the UK.', 'product_quantity': '32', 'product_img': 'https://i.dummyjson.com/data/products/5/thumbnail.jpg', 'product_category': 'smartphones', 'product_brand': 'Huawei', '$id': '33b47fe2-5db1-4a02-bd4a-add5824ebdcb', '$createdAt': '2023-06-09T14:27:44.023+00:00', '$updatedAt': '2023-06-09T14:27:44.023+00:00', '$permissions': ['read(\"user:5f9ce6e7-ef83-435e-8e45-eb59ea19de19\")', 'update(\"user:5f9ce6e7-ef83-435e-8e45-eb59ea19de19\")', 'delete(\"user:5f9ce6e7-ef83-435e-8e45-eb59ea19de19\")'], '$collectionId': '64776fc2e21709b916ac', '$databaseId': '646f96a60d5767f59620'}, {'seller_id': 'da6b0902-0897-4ec9-a185-7ded00fa73de1', 'product_id': 'ba18b161-0197-4e73-b1b6-34f4ff7d6c48', 'product_name': 'Non-Alcoholic Concentrated Perfume Oil', 'product_price': '120', 'product_desc': 'Original Al Munakh® by Mahal Al Musk | Our Impression of Climate | 6ml Non-Alcoholic Concentrated Perfume Oil', 'product_quantity': '114', 'product_img': 'https://i.dummyjson.com/data/products/14/thumbnail.jpg', 'product_category': 'fragrances', 'product_brand': 'Al Munakh', '$id': 'f32dd7a0-42c0-45b7-9365-d641079d8d4f', '$createdAt': '2023-06-09T14:27:44.027+00:00', '$updatedAt': '2023-06-09T14:27:44.027+00:00', '$permissions': ['read(\"user:5f9ce6e7-ef83-435e-8e45-eb59ea19de19\")', 'update(\"user:5f9ce6e7-ef83-435e-8e45-eb59ea19de19\")', 'delete(\"user:5f9ce6e7-ef83-435e-8e45-eb59ea19de19\")'], '$collectionId': '64776fc2e21709b916ac', '$databaseId': '646f96a60d5767f59620'}, {'seller_id': 'fa525a44-2242-4283-82e0-59cfbbb6c2c91', 'product_id': '7873d855-9150-4f22-baa7-d5e8674acc02', 'product_name': 'Freckle Treatment Cream- 15gm', 'product_price': '70', 'product_desc': \"Fair & Clear is Pakistan's only pure Freckle cream which helpsfade Freckles, Darkspots and pigments. Mercury level is 0%, so there are no side effects.\", 'product_quantity': '140', 'product_img': 'https://i.dummyjson.com/data/products/20/thumbnail.jpg', 'product_category': 'skincare', 'product_brand': 'Fair & Clear', '$id': '55d9d293-3a51-4b0f-ae65-c362c161c0ff', '$createdAt': '2023-06-09T14:27:44.028+00:00', '$updatedAt': '2023-06-09T14:27:44.028+00:00', '$permissions': ['read(\"user:5f9ce6e7-ef83-435e-8e45-eb59ea19de19\")', 'update(\"user:5f9ce6e7-ef83-435e-8e45-eb59ea19de19\")', 'delete(\"user:5f9ce6e7-ef83-435e-8e45-eb59ea19de19\")'], '$collectionId': '64776fc2e21709b916ac', '$databaseId': '646f96a60d5767f59620'}, {'seller_id': 'a6caffe4-4db2-48c1-ab2d-9890299b71c51', 'product_id': 'f4278ba0-982e-43d0-bd6e-3edadb69c20a', 'product_name': 'Handcraft Chinese style', 'product_price': '60', 'product_desc': 'Handcraft Chinese style art luxury palace hotel villa mansion home decor ceramic vase with brass fruit plate', 'product_quantity': '7', 'product_img': 'https://i.dummyjson.com/data/products/29/thumbnail.webp', 'product_category': 'home-decoration', 'product_brand': 'luxury palace', '$id': '311dd025-c54b-4edd-bedf-e317bd965a80', '$createdAt': '2023-06-09T14:27:44.025+00:00', '$updatedAt': '2023-06-09T14:27:44.025+00:00', '$permissions': ['read(\"user:5f9ce6e7-ef83-435e-8e45-eb59ea19de19\")', 'update(\"user:5f9ce6e7-ef83-435e-8e45-eb59ea19de19\")', 'delete(\"user:5f9ce6e7-ef83-435e-8e45-eb59ea19de19\")'], '$collectionId': '64776fc2e21709b916ac', '$databaseId': '646f96a60d5767f59620'}, {'seller_id': '0851afcf-1d76-4378-899e-6064f67f4d241', 'product_id': 'bcf0ca49-1b92-435c-aa21-7f0e4d080971', 'product_name': '3D Embellishment Art Lamp', 'product_price': '20', 'product_desc': '3D led lamp sticker Wall sticker 3d wall art light on/off button  cell operated (included)', 'product_quantity': '54', 'product_img': 'https://i.dummyjson.com/data/products/28/thumbnail.jpg', 'product_category': 'home-decoration', 'product_brand': 'LED Lights', '$id': '16f7d070-4531-4087-ae20-c94606bbdffe', '$createdAt': '2023-06-09T14:27:44.047+00:00', '$updatedAt': '2023-06-09T14:27:44.047+00:00', '$permissions': ['read(\"user:5f9ce6e7-ef83-435e-8e45-eb59ea19de19\")', 'update(\"user:5f9ce6e7-ef83-435e-8e45-eb59ea19de19\")', 'delete(\"user:5f9ce6e7-ef83-435e-8e45-eb59ea19de19\")'], '$collectionId': '64776fc2e21709b916ac', '$databaseId': '646f96a60d5767f59620'}, {'seller_id': '643051b3-ce44-46c5-a0bb-54f190ae066c1', 'product_id': 'c650b7b3-f9f4-416c-9a4c-86b18f9be0bd', 'product_name': 'Fog Scent Xpressio Perfume', 'product_price': '13', 'product_desc': 'Product details of Best Fog Scent Xpressio Perfume 100ml For Men cool long lasting perfumes for Men', 'product_quantity': '61', 'product_img': 'https://i.dummyjson.com/data/products/13/thumbnail.webp', 'product_category': 'fragrances', 'product_brand': 'Fog Scent Xpressio', '$id': '3d8567e6-c267-4cfb-a80a-9435cd0d810e', '$createdAt': '2023-06-09T14:27:44.047+00:00', '$updatedAt': '2023-06-09T14:27:44.047+00:00', '$permissions': ['read(\"user:5f9ce6e7-ef83-435e-8e45-eb59ea19de19\")', 'update(\"user:5f9ce6e7-ef83-435e-8e45-eb59ea19de19\")', 'delete(\"user:5f9ce6e7-ef83-435e-8e45-eb59ea19de19\")'], '$collectionId': '64776fc2e21709b916ac', '$databaseId': '646f96a60d5767f59620'}, {'seller_id': '84c29e6f-feea-4bfc-8040-df6bae0273fc1', 'product_id': 'e3ec597f-a446-4b0e-8eb2-d3b70b022ba1', 'product_name': 'HP Pavilion 15-DK1056WM', 'product_price': '1099', 'product_desc': 'HP Pavilion 15-DK1056WM Gaming Laptop 10th Gen Core i5, 8GB, 256GB SSD, GTX 1650 4GB, Windows 10', 'product_quantity': '89', 'product_img': 'https://i.dummyjson.com/data/products/10/thumbnail.jpeg', 'product_category': 'laptops', 'product_brand': 'HP Pavilion', '$id': 'd92fdec2-fa0c-4e87-b237-508047ccdc12', '$createdAt': '2023-06-09T14:27:44.056+00:00', '$updatedAt': '2023-06-09T14:27:44.056+00:00', '$permissions': ['read(\"user:5f9ce6e7-ef83-435e-8e45-eb59ea19de19\")', 'update(\"user:5f9ce6e7-ef83-435e-8e45-eb59ea19de19\")', 'delete(\"user:5f9ce6e7-ef83-435e-8e45-eb59ea19de19\")'], '$collectionId': '64776fc2e21709b916ac', '$databaseId': '646f96a60d5767f59620'}, {'seller_id': 'edc95fe6-45ee-4f60-a8d9-75cd9b5844341', 'product_id': '25cb4795-4ac6-4a26-bfd8-a2a6a7e6faa2', 'product_name': 'Oil Free Moisturizer 100ml', 'product_price': '40', 'product_desc': 'Dermive Oil Free Moisturizer with SPF 20 is specifically formulated with ceramides, hyaluronic acid & sunscreen.', 'product_quantity': '88', 'product_img': 'https://i.dummyjson.com/data/products/18/thumbnail.jpg', 'product_category': 'skincare', 'product_brand': 'Dermive', '$id': '0ad1cba9-316a-4758-8b6e-713ea057698d', '$createdAt': '2023-06-09T14:27:44.042+00:00', '$updatedAt': '2023-06-09T14:27:44.042+00:00', '$permissions': ['read(\"user:5f9ce6e7-ef83-435e-8e45-eb59ea19de19\")', 'update(\"user:5f9ce6e7-ef83-435e-8e45-eb59ea19de19\")', 'delete(\"user:5f9ce6e7-ef83-435e-8e45-eb59ea19de19\")'], '$collectionId': '64776fc2e21709b916ac', '$databaseId': '646f96a60d5767f59620'}, {'seller_id': '4ff50da5-db5f-4643-9972-92e256f916ac1', 'product_id': 'd7c9feb3-8a03-456e-b827-6459a54aeb35', 'product_name': '- Daal Masoor 500 grams', 'product_price': '20', 'product_desc': 'Fine quality Branded Product Keep in a cool and dry place', 'product_quantity': '133', 'product_img': 'https://i.dummyjson.com/data/products/21/thumbnail.png', 'product_category': 'groceries', 'product_brand': 'Saaf & Khaas', '$id': '24240b58-2725-4189-95ea-2b82f431fee1', '$createdAt': '2023-06-09T14:27:44.068+00:00', '$updatedAt': '2023-06-09T14:27:44.068+00:00', '$permissions': ['read(\"user:5f9ce6e7-ef83-435e-8e45-eb59ea19de19\")', 'update(\"user:5f9ce6e7-ef83-435e-8e45-eb59ea19de19\")', 'delete(\"user:5f9ce6e7-ef83-435e-8e45-eb59ea19de19\")'], '$collectionId': '64776fc2e21709b916ac', '$databaseId': '646f96a60d5767f59620'}, {'seller_id': 'dc72854e-dfec-4f1a-aac9-bfd88dbf086d1', 'product_id': '30eb5c3e-f96d-4edb-b054-9434dff36223', 'product_name': 'Infinix INBOOK', 'product_price': '1099', 'product_desc': 'Infinix Inbook X1 Ci3 10th 8GB 256GB 14 Win10 Grey – 1 Year Warranty', 'product_quantity': '96', 'product_img': 'https://i.dummyjson.com/data/products/9/thumbnail.jpg', 'product_category': 'laptops', 'product_brand': 'Infinix', '$id': '9f6da76d-4a32-4d73-9568-4b2b58869fb7', '$createdAt': '2023-06-09T14:27:44.078+00:00', '$updatedAt': '2023-06-09T14:27:44.078+00:00', '$permissions': ['read(\"user:5f9ce6e7-ef83-435e-8e45-eb59ea19de19\")', 'update(\"user:5f9ce6e7-ef83-435e-8e45-eb59ea19de19\")', 'delete(\"user:5f9ce6e7-ef83-435e-8e45-eb59ea19de19\")'], '$collectionId': '64776fc2e21709b916ac', '$databaseId': '646f96a60d5767f59620'}, {'seller_id': 'e40c9261-35bd-45b5-b5be-0da090e96a191', 'product_id': '2c10fa94-9191-46ae-a657-59aab8859eda', 'product_name': 'Flying Wooden Bird', 'product_price': '51', 'product_desc': 'Package Include 6 Birds with Adhesive Tape Shape: 3D Shaped Wooden Birds Material: Wooden MDF, Laminated 3.5mm', 'product_quantity': '17', 'product_img': 'https://i.dummyjson.com/data/products/27/thumbnail.webp', 'product_category': 'home-decoration', 'product_brand': 'Flying Wooden', '$id': '863d0490-b36a-4ad2-a596-a8ca1fdb615e', '$createdAt': '2023-06-09T14:27:44.087+00:00', '$updatedAt': '2023-06-09T14:27:44.087+00:00', '$permissions': ['read(\"user:5f9ce6e7-ef83-435e-8e45-eb59ea19de19\")', 'update(\"user:5f9ce6e7-ef83-435e-8e45-eb59ea19de19\")', 'delete(\"user:5f9ce6e7-ef83-435e-8e45-eb59ea19de19\")'], '$collectionId': '64776fc2e21709b916ac', '$databaseId': '646f96a60d5767f59620'}, {'seller_id': '5477e5be-b7d0-4382-8cca-93d62eff16b11', 'product_id': '609c8d8d-b91f-463e-8fd4-d6ef66590db3', 'product_name': 'Hyaluronic Acid Serum', 'product_price': '19', 'product_desc': \"L'OrÃ©al Paris introduces Hyaluron Expert Replumping Serum formulated with 1.5% Hyaluronic Acid\", 'product_quantity': '110', 'product_img': 'https://i.dummyjson.com/data/products/16/thumbnail.jpg', 'product_category': 'skincare', 'product_brand': \"L'Oreal Paris\", '$id': 'f8e1e102-6931-4d86-9c1c-74e26f56a8c8', '$createdAt': '2023-06-09T14:27:44.094+00:00', '$updatedAt': '2023-06-09T14:27:44.094+00:00', '$permissions': ['read(\"user:5f9ce6e7-ef83-435e-8e45-eb59ea19de19\")', 'update(\"user:5f9ce6e7-ef83-435e-8e45-eb59ea19de19\")', 'delete(\"user:5f9ce6e7-ef83-435e-8e45-eb59ea19de19\")'], '$collectionId': '64776fc2e21709b916ac', '$databaseId': '646f96a60d5767f59620'}, {'seller_id': '567905ea-7a0b-4c5f-a56c-31a45aee0be11', 'product_id': '8b0c0ffd-0dc1-4f47-8759-1523b4d9e957', 'product_name': 'Eau De Perfume Spray', 'product_price': '30', 'product_desc': 'Genuine  Al-Rehab spray perfume from UAE/Saudi Arabia/Yemen High Quality', 'product_quantity': '105', 'product_img': 'https://i.dummyjson.com/data/products/15/thumbnail.jpg', 'product_category': 'fragrances', 'product_brand': 'Lord - Al-Rehab', '$id': 'e14a7ce8-5cef-4107-9a75-eaaa71255db2', '$createdAt': '2023-06-09T14:27:44.095+00:00', '$updatedAt': '2023-06-09T14:27:44.095+00:00', '$permissions': ['read(\"user:5f9ce6e7-ef83-435e-8e45-eb59ea19de19\")', 'update(\"user:5f9ce6e7-ef83-435e-8e45-eb59ea19de19\")', 'delete(\"user:5f9ce6e7-ef83-435e-8e45-eb59ea19de19\")'], '$collectionId': '64776fc2e21709b916ac', '$databaseId': '646f96a60d5767f59620'}, {'seller_id': 'db82de6b-1b74-4199-a80a-1ecf5e69d4ce1', 'product_id': '9e81cd9b-aa3b-4d0d-a785-704780db0bfe', 'product_name': 'Plant Hanger For Home', 'product_price': '41', 'product_desc': 'Boho Decor Plant Hanger For Home Wall Decoration Macrame Wall Hanging Shelf', 'product_quantity': '131', 'product_img': 'https://i.dummyjson.com/data/products/26/thumbnail.jpg', 'product_category': 'home-decoration', 'product_brand': 'Boho Decor', '$id': 'a2f5e7cc-aef5-42be-9a79-4e7b71d0075c', '$createdAt': '2023-06-09T14:27:44.096+00:00', '$updatedAt': '2023-06-09T14:27:44.096+00:00', '$permissions': ['read(\"user:5f9ce6e7-ef83-435e-8e45-eb59ea19de19\")', 'update(\"user:5f9ce6e7-ef83-435e-8e45-eb59ea19de19\")', 'delete(\"user:5f9ce6e7-ef83-435e-8e45-eb59ea19de19\")'], '$collectionId': '64776fc2e21709b916ac', '$databaseId': '646f96a60d5767f59620'}, {'seller_id': '1fbf7fbb-960b-4146-b912-2849c376f9361', 'product_id': 'df8e2458-5dbb-4dfb-a636-60c501e169b8', 'product_name': 'MacBook Pro', 'product_price': '1749', 'product_desc': 'MacBook Pro 2021 with mini-LED display may launch between September, November', 'product_quantity': '83', 'product_img': 'https://i.dummyjson.com/data/products/6/thumbnail.png', 'product_category': 'laptops', 'product_brand': 'Apple', '$id': 'ad8a465c-0d20-4de0-be6d-203c002855bb', '$createdAt': '2023-06-09T14:27:44.112+00:00', '$updatedAt': '2023-06-09T14:27:44.112+00:00', '$permissions': ['read(\"user:5f9ce6e7-ef83-435e-8e45-eb59ea19de19\")', 'update(\"user:5f9ce6e7-ef83-435e-8e45-eb59ea19de19\")', 'delete(\"user:5f9ce6e7-ef83-435e-8e45-eb59ea19de19\")'], '$collectionId': '64776fc2e21709b916ac', '$databaseId': '646f96a60d5767f59620'}, {'seller_id': 'fc6fae08-4d04-414c-929b-40049a6592581', 'product_id': 'b2814205-1842-48e4-832b-e0c17b7548c8', 'product_name': 'iPhone 9', 'product_price': '549', 'product_desc': 'An apple mobile which is nothing like apple', 'product_quantity': '94', 'product_img': 'https://i.dummyjson.com/data/products/1/thumbnail.jpg', 'product_category': 'smartphones', 'product_brand': 'Apple', '$id': '4f6269f7-4d0f-423d-a069-28f0febaf01c', '$createdAt': '2023-06-09T14:27:44.118+00:00', '$updatedAt': '2023-06-09T14:27:44.118+00:00', '$permissions': ['read(\"user:5f9ce6e7-ef83-435e-8e45-eb59ea19de19\")', 'update(\"user:5f9ce6e7-ef83-435e-8e45-eb59ea19de19\")', 'delete(\"user:5f9ce6e7-ef83-435e-8e45-eb59ea19de19\")'], '$collectionId': '64776fc2e21709b916ac', '$databaseId': '646f96a60d5767f59620'}, {'seller_id': 'a162ca31-dad2-42cc-81ff-b4daee47a6071', 'product_id': '7275a8a1-2ff6-403f-8d9d-dcbfb54cc033', 'product_name': 'cereals muesli fruit nuts', 'product_price': '46', 'product_desc': 'original fauji cereal muesli 250gm box pack original fauji cereals muesli fruit nuts flakes breakfast cereal break fast faujicereals cerels cerel foji fouji', 'product_quantity': '113', 'product_img': 'https://i.dummyjson.com/data/products/24/thumbnail.jpg', 'product_category': 'groceries', 'product_brand': 'fauji', '$id': 'ebf55bed-98c4-4c13-9be5-0fc88f596bb5', '$createdAt': '2023-06-09T14:27:44.126+00:00', '$updatedAt': '2023-06-09T14:27:44.126+00:00', '$permissions': ['read(\"user:5f9ce6e7-ef83-435e-8e45-eb59ea19de19\")', 'update(\"user:5f9ce6e7-ef83-435e-8e45-eb59ea19de19\")', 'delete(\"user:5f9ce6e7-ef83-435e-8e45-eb59ea19de19\")'], '$collectionId': '64776fc2e21709b916ac', '$databaseId': '646f96a60d5767f59620'}, {'seller_id': 'f20a53e1-4c5c-48b7-b96e-a65d4245447e1', 'product_id': '6129ce54-d32f-44e7-9d52-ebdc1cb0647b', 'product_name': 'Gulab Powder 50 Gram', 'product_price': '70', 'product_desc': 'Dry Rose Flower Powder Gulab Powder 50 Gram • Treats Wounds', 'product_quantity': '47', 'product_img': 'https://i.dummyjson.com/data/products/25/thumbnail.jpg', 'product_category': 'groceries', 'product_brand': 'Dry Rose', '$id': 'e9c9184f-d10f-44b1-af93-883515cbf8ce', '$createdAt': '2023-06-09T14:27:44.124+00:00', '$updatedAt': '2023-06-09T14:27:44.124+00:00', '$permissions': ['read(\"user:5f9ce6e7-ef83-435e-8e45-eb59ea19de19\")', 'update(\"user:5f9ce6e7-ef83-435e-8e45-eb59ea19de19\")', 'delete(\"user:5f9ce6e7-ef83-435e-8e45-eb59ea19de19\")'], '$collectionId': '64776fc2e21709b916ac', '$databaseId': '646f96a60d5767f59620'}, {'seller_id': '499bc78a-0873-4829-90a9-40f848a4077e1', 'product_id': 'c86d9c0c-ba47-4275-8fc3-41648e7c3338', 'product_name': 'Key Holder', 'product_price': '30', 'product_desc': 'Attractive DesignMetallic materialFour key hooksReliable & DurablePremium Quality', 'product_quantity': '54', 'product_img': 'https://i.dummyjson.com/data/products/30/thumbnail.jpg', 'product_category': 'home-decoration', 'product_brand': 'Golden', '$id': '94b41eb4-c874-45be-86ea-63283220b46e', '$createdAt': '2023-06-09T14:27:44.136+00:00', '$updatedAt': '2023-06-09T14:27:44.136+00:00', '$permissions': ['read(\"user:5f9ce6e7-ef83-435e-8e45-eb59ea19de19\")', 'update(\"user:5f9ce6e7-ef83-435e-8e45-eb59ea19de19\")', 'delete(\"user:5f9ce6e7-ef83-435e-8e45-eb59ea19de19\")'], '$collectionId': '64776fc2e21709b916ac', '$databaseId': '646f96a60d5767f59620'}, {'seller_id': '9929f1e3-77ca-4264-ae22-8a66bb6907ed1', 'product_id': '07f65862-8dec-41c8-bc80-1fed8e54f311', 'product_name': 'Key Holder', 'product_price': '30', 'product_desc': 'Attractive DesignMetallic materialFour key hooksReliable & DurablePremium Quality', 'product_quantity': '54', 'product_img': 'https://i.dummyjson.com/data/products/30/thumbnail.jpg', 'product_category': 'home-decoration', 'product_brand': 'Golden', '$id': 'a738948c-e08f-47ad-ae68-c6309d6cefc5', '$createdAt': '2023-06-09T14:27:44.136+00:00', '$updatedAt': '2023-06-09T14:27:44.136+00:00', '$permissions': ['read(\"user:5f9ce6e7-ef83-435e-8e45-eb59ea19de19\")', 'update(\"user:5f9ce6e7-ef83-435e-8e45-eb59ea19de19\")', 'delete(\"user:5f9ce6e7-ef83-435e-8e45-eb59ea19de19\")'], '$collectionId': '64776fc2e21709b916ac', '$databaseId': '646f96a60d5767f59620'}, {'seller_id': '4e7986ce-83d3-454d-9718-3cb03faf6e501', 'product_id': 'ff92c49f-7e85-46ba-9e2a-6d6fa53d019a', 'product_name': 'Orange Essence Food Flavou', 'product_price': '14', 'product_desc': 'Specifications of Orange Essence Food Flavour For Cakes and Baking Food Item', 'product_quantity': '26', 'product_img': 'https://i.dummyjson.com/data/products/23/thumbnail.jpg', 'product_category': 'groceries', 'product_brand': 'Baking Food Items', '$id': 'e718465d-36cf-4446-acdc-301511854026', '$createdAt': '2023-06-09T14:27:44.143+00:00', '$updatedAt': '2023-06-09T14:27:44.143+00:00', '$permissions': ['read(\"user:5f9ce6e7-ef83-435e-8e45-eb59ea19de19\")', 'update(\"user:5f9ce6e7-ef83-435e-8e45-eb59ea19de19\")', 'delete(\"user:5f9ce6e7-ef83-435e-8e45-eb59ea19de19\")'], '$collectionId': '64776fc2e21709b916ac', '$databaseId': '646f96a60d5767f59620'}, {'seller_id': '0ccb5c25-9253-4141-827a-130e57513c7a1', 'product_id': 'e47ee42d-2b5a-4db7-aff1-46b2d9a4c26e', 'product_name': 'Microsoft Surface Laptop 4', 'product_price': '1499', 'product_desc': 'Style and speed. Stand out on HD video calls backed by Studio Mics. Capture ideas on the vibrant touchscreen.', 'product_quantity': '68', 'product_img': 'https://i.dummyjson.com/data/products/8/thumbnail.jpg', 'product_category': 'laptops', 'product_brand': 'Microsoft Surface', '$id': 'acaded46-6b3e-43cb-a59e-34f18eac1222', '$createdAt': '2023-06-09T14:27:44.156+00:00', '$updatedAt': '2023-06-09T14:27:44.156+00:00', '$permissions': ['read(\"user:5f9ce6e7-ef83-435e-8e45-eb59ea19de19\")', 'update(\"user:5f9ce6e7-ef83-435e-8e45-eb59ea19de19\")', 'delete(\"user:5f9ce6e7-ef83-435e-8e45-eb59ea19de19\")'], '$collectionId': '64776fc2e21709b916ac', '$databaseId': '646f96a60d5767f59620'}, {'seller_id': 'c5ee6f0e-7084-4ad9-bcfc-cbe271137b4e1', 'product_id': '7e6d307d-6905-46c2-b149-876982aab0dc', 'product_name': 'Samsung Universe 9', 'product_price': '1249', 'product_desc': \"Samsung's new variant which goes beyond Galaxy to the Universe\", 'product_quantity': '36', 'product_img': 'https://i.dummyjson.com/data/products/3/thumbnail.jpg', 'product_category': 'smartphones', 'product_brand': 'Samsung', '$id': '092fb8c5-016a-4acf-9037-f6b7228ec844', '$createdAt': '2023-06-09T14:27:44.155+00:00', '$updatedAt': '2023-06-09T14:27:44.155+00:00', '$permissions': ['read(\"user:5f9ce6e7-ef83-435e-8e45-eb59ea19de19\")', 'update(\"user:5f9ce6e7-ef83-435e-8e45-eb59ea19de19\")', 'delete(\"user:5f9ce6e7-ef83-435e-8e45-eb59ea19de19\")'], '$collectionId': '64776fc2e21709b916ac', '$databaseId': '646f96a60d5767f59620'}, {'seller_id': '10494044-4bfb-4da3-bfeb-207a21b1914b1', 'product_id': '3a933118-7445-4ab5-8da5-cbcd50191b90', 'product_name': 'Freckle Treatment Cream- 15gm', 'product_price': '70', 'product_desc': \"Fair & Clear is Pakistan's only pure Freckle cream which helpsfade Freckles, Darkspots and pigments. Mercury level is 0%, so there are no side effects.\", 'product_quantity': '140', 'product_img': 'https://i.dummyjson.com/data/products/20/thumbnail.jpg', 'product_category': 'skincare', 'product_brand': 'Fair & Clear', '$id': 'e26b4156-44a3-44c8-ac28-2f7141da801a', '$createdAt': '2023-06-09T14:27:44.159+00:00', '$updatedAt': '2023-06-09T14:27:44.159+00:00', '$permissions': ['read(\"user:5f9ce6e7-ef83-435e-8e45-eb59ea19de19\")', 'update(\"user:5f9ce6e7-ef83-435e-8e45-eb59ea19de19\")', 'delete(\"user:5f9ce6e7-ef83-435e-8e45-eb59ea19de19\")'], '$collectionId': '64776fc2e21709b916ac', '$databaseId': '646f96a60d5767f59620'}, {'seller_id': 'fd6160e1-7cd0-4b11-aa61-a8f0773b58621', 'product_id': '0c288a92-c5b1-4ecf-b7a8-5b730550d36d', 'product_name': '3D Embellishment Art Lamp', 'product_price': '20', 'product_desc': '3D led lamp sticker Wall sticker 3d wall art light on/off button  cell operated (included)', 'product_quantity': '54', 'product_img': 'https://i.dummyjson.com/data/products/28/thumbnail.jpg', 'product_category': 'home-decoration', 'product_brand': 'LED Lights', '$id': 'af6d74c6-431a-4ee0-a639-b77198379b68', '$createdAt': '2023-06-09T14:27:44.231+00:00', '$updatedAt': '2023-06-09T14:27:44.231+00:00', '$permissions': ['read(\"user:5f9ce6e7-ef83-435e-8e45-eb59ea19de19\")', 'update(\"user:5f9ce6e7-ef83-435e-8e45-eb59ea19de19\")', 'delete(\"user:5f9ce6e7-ef83-435e-8e45-eb59ea19de19\")'], '$collectionId': '64776fc2e21709b916ac', '$databaseId': '646f96a60d5767f59620'}]}\n"
          ]
        }
      ]
    },
    {
      "cell_type": "code",
      "source": [
        "print(len(document['documents']))"
      ],
      "metadata": {
        "colab": {
          "base_uri": "https://localhost:8080/"
        },
        "id": "0iX3LuDBp9LD",
        "outputId": "8aeb2d73-bcb3-4207-c681-11866ee0bac6"
      },
      "execution_count": 5,
      "outputs": [
        {
          "output_type": "stream",
          "name": "stdout",
          "text": [
            "78\n"
          ]
        }
      ]
    },
    {
      "cell_type": "code",
      "source": [
        "a=[]\n",
        "for i in range(len(document['documents'])):\n",
        "  a.append(document['documents'][i][\"product_name\"])"
      ],
      "metadata": {
        "id": "K0gfeqh0m8os"
      },
      "execution_count": 6,
      "outputs": []
    },
    {
      "cell_type": "code",
      "source": [
        "import pandas as pd"
      ],
      "metadata": {
        "id": "gvHkws1bnLU1"
      },
      "execution_count": 7,
      "outputs": []
    },
    {
      "cell_type": "code",
      "source": [
        "df=pd.DataFrame(a)"
      ],
      "metadata": {
        "id": "YrGz_srAylu5"
      },
      "execution_count": 8,
      "outputs": []
    },
    {
      "cell_type": "code",
      "source": [
        "df.head()"
      ],
      "metadata": {
        "colab": {
          "base_uri": "https://localhost:8080/",
          "height": 206
        },
        "id": "CAVNt8Hqyqe3",
        "outputId": "632950ed-9e9d-4da4-a31c-91221d8fa106"
      },
      "execution_count": 9,
      "outputs": [
        {
          "output_type": "execute_result",
          "data": {
            "text/plain": [
              "      0\n",
              "0   car\n",
              "1  bike\n",
              "2   toy\n",
              "3    tv\n",
              "4   car"
            ],
            "text/html": [
              "\n",
              "  <div id=\"df-a362df0c-1ddd-427a-9274-f6893e9cee08\">\n",
              "    <div class=\"colab-df-container\">\n",
              "      <div>\n",
              "<style scoped>\n",
              "    .dataframe tbody tr th:only-of-type {\n",
              "        vertical-align: middle;\n",
              "    }\n",
              "\n",
              "    .dataframe tbody tr th {\n",
              "        vertical-align: top;\n",
              "    }\n",
              "\n",
              "    .dataframe thead th {\n",
              "        text-align: right;\n",
              "    }\n",
              "</style>\n",
              "<table border=\"1\" class=\"dataframe\">\n",
              "  <thead>\n",
              "    <tr style=\"text-align: right;\">\n",
              "      <th></th>\n",
              "      <th>0</th>\n",
              "    </tr>\n",
              "  </thead>\n",
              "  <tbody>\n",
              "    <tr>\n",
              "      <th>0</th>\n",
              "      <td>car</td>\n",
              "    </tr>\n",
              "    <tr>\n",
              "      <th>1</th>\n",
              "      <td>bike</td>\n",
              "    </tr>\n",
              "    <tr>\n",
              "      <th>2</th>\n",
              "      <td>toy</td>\n",
              "    </tr>\n",
              "    <tr>\n",
              "      <th>3</th>\n",
              "      <td>tv</td>\n",
              "    </tr>\n",
              "    <tr>\n",
              "      <th>4</th>\n",
              "      <td>car</td>\n",
              "    </tr>\n",
              "  </tbody>\n",
              "</table>\n",
              "</div>\n",
              "      <button class=\"colab-df-convert\" onclick=\"convertToInteractive('df-a362df0c-1ddd-427a-9274-f6893e9cee08')\"\n",
              "              title=\"Convert this dataframe to an interactive table.\"\n",
              "              style=\"display:none;\">\n",
              "        \n",
              "  <svg xmlns=\"http://www.w3.org/2000/svg\" height=\"24px\"viewBox=\"0 0 24 24\"\n",
              "       width=\"24px\">\n",
              "    <path d=\"M0 0h24v24H0V0z\" fill=\"none\"/>\n",
              "    <path d=\"M18.56 5.44l.94 2.06.94-2.06 2.06-.94-2.06-.94-.94-2.06-.94 2.06-2.06.94zm-11 1L8.5 8.5l.94-2.06 2.06-.94-2.06-.94L8.5 2.5l-.94 2.06-2.06.94zm10 10l.94 2.06.94-2.06 2.06-.94-2.06-.94-.94-2.06-.94 2.06-2.06.94z\"/><path d=\"M17.41 7.96l-1.37-1.37c-.4-.4-.92-.59-1.43-.59-.52 0-1.04.2-1.43.59L10.3 9.45l-7.72 7.72c-.78.78-.78 2.05 0 2.83L4 21.41c.39.39.9.59 1.41.59.51 0 1.02-.2 1.41-.59l7.78-7.78 2.81-2.81c.8-.78.8-2.07 0-2.86zM5.41 20L4 18.59l7.72-7.72 1.47 1.35L5.41 20z\"/>\n",
              "  </svg>\n",
              "      </button>\n",
              "      \n",
              "  <style>\n",
              "    .colab-df-container {\n",
              "      display:flex;\n",
              "      flex-wrap:wrap;\n",
              "      gap: 12px;\n",
              "    }\n",
              "\n",
              "    .colab-df-convert {\n",
              "      background-color: #E8F0FE;\n",
              "      border: none;\n",
              "      border-radius: 50%;\n",
              "      cursor: pointer;\n",
              "      display: none;\n",
              "      fill: #1967D2;\n",
              "      height: 32px;\n",
              "      padding: 0 0 0 0;\n",
              "      width: 32px;\n",
              "    }\n",
              "\n",
              "    .colab-df-convert:hover {\n",
              "      background-color: #E2EBFA;\n",
              "      box-shadow: 0px 1px 2px rgba(60, 64, 67, 0.3), 0px 1px 3px 1px rgba(60, 64, 67, 0.15);\n",
              "      fill: #174EA6;\n",
              "    }\n",
              "\n",
              "    [theme=dark] .colab-df-convert {\n",
              "      background-color: #3B4455;\n",
              "      fill: #D2E3FC;\n",
              "    }\n",
              "\n",
              "    [theme=dark] .colab-df-convert:hover {\n",
              "      background-color: #434B5C;\n",
              "      box-shadow: 0px 1px 3px 1px rgba(0, 0, 0, 0.15);\n",
              "      filter: drop-shadow(0px 1px 2px rgba(0, 0, 0, 0.3));\n",
              "      fill: #FFFFFF;\n",
              "    }\n",
              "  </style>\n",
              "\n",
              "      <script>\n",
              "        const buttonEl =\n",
              "          document.querySelector('#df-a362df0c-1ddd-427a-9274-f6893e9cee08 button.colab-df-convert');\n",
              "        buttonEl.style.display =\n",
              "          google.colab.kernel.accessAllowed ? 'block' : 'none';\n",
              "\n",
              "        async function convertToInteractive(key) {\n",
              "          const element = document.querySelector('#df-a362df0c-1ddd-427a-9274-f6893e9cee08');\n",
              "          const dataTable =\n",
              "            await google.colab.kernel.invokeFunction('convertToInteractive',\n",
              "                                                     [key], {});\n",
              "          if (!dataTable) return;\n",
              "\n",
              "          const docLinkHtml = 'Like what you see? Visit the ' +\n",
              "            '<a target=\"_blank\" href=https://colab.research.google.com/notebooks/data_table.ipynb>data table notebook</a>'\n",
              "            + ' to learn more about interactive tables.';\n",
              "          element.innerHTML = '';\n",
              "          dataTable['output_type'] = 'display_data';\n",
              "          await google.colab.output.renderOutput(dataTable, element);\n",
              "          const docLink = document.createElement('div');\n",
              "          docLink.innerHTML = docLinkHtml;\n",
              "          element.appendChild(docLink);\n",
              "        }\n",
              "      </script>\n",
              "    </div>\n",
              "  </div>\n",
              "  "
            ]
          },
          "metadata": {},
          "execution_count": 9
        }
      ]
    },
    {
      "cell_type": "code",
      "source": [
        "df.rename(columns = {0:'products'}, inplace = True)\n"
      ],
      "metadata": {
        "id": "EGNDeILaKj3d"
      },
      "execution_count": 14,
      "outputs": []
    },
    {
      "cell_type": "code",
      "source": [
        "df.head(2)"
      ],
      "metadata": {
        "colab": {
          "base_uri": "https://localhost:8080/",
          "height": 112
        },
        "id": "oP-vbeHnKohO",
        "outputId": "1c9e898c-0f76-4c16-dfa1-09e73025e1d4"
      },
      "execution_count": 15,
      "outputs": [
        {
          "output_type": "execute_result",
          "data": {
            "text/plain": [
              "  products\n",
              "0      car\n",
              "1     bike"
            ],
            "text/html": [
              "\n",
              "  <div id=\"df-bf08c68e-f0bd-499f-b4f0-d2643e3feb0c\">\n",
              "    <div class=\"colab-df-container\">\n",
              "      <div>\n",
              "<style scoped>\n",
              "    .dataframe tbody tr th:only-of-type {\n",
              "        vertical-align: middle;\n",
              "    }\n",
              "\n",
              "    .dataframe tbody tr th {\n",
              "        vertical-align: top;\n",
              "    }\n",
              "\n",
              "    .dataframe thead th {\n",
              "        text-align: right;\n",
              "    }\n",
              "</style>\n",
              "<table border=\"1\" class=\"dataframe\">\n",
              "  <thead>\n",
              "    <tr style=\"text-align: right;\">\n",
              "      <th></th>\n",
              "      <th>products</th>\n",
              "    </tr>\n",
              "  </thead>\n",
              "  <tbody>\n",
              "    <tr>\n",
              "      <th>0</th>\n",
              "      <td>car</td>\n",
              "    </tr>\n",
              "    <tr>\n",
              "      <th>1</th>\n",
              "      <td>bike</td>\n",
              "    </tr>\n",
              "  </tbody>\n",
              "</table>\n",
              "</div>\n",
              "      <button class=\"colab-df-convert\" onclick=\"convertToInteractive('df-bf08c68e-f0bd-499f-b4f0-d2643e3feb0c')\"\n",
              "              title=\"Convert this dataframe to an interactive table.\"\n",
              "              style=\"display:none;\">\n",
              "        \n",
              "  <svg xmlns=\"http://www.w3.org/2000/svg\" height=\"24px\"viewBox=\"0 0 24 24\"\n",
              "       width=\"24px\">\n",
              "    <path d=\"M0 0h24v24H0V0z\" fill=\"none\"/>\n",
              "    <path d=\"M18.56 5.44l.94 2.06.94-2.06 2.06-.94-2.06-.94-.94-2.06-.94 2.06-2.06.94zm-11 1L8.5 8.5l.94-2.06 2.06-.94-2.06-.94L8.5 2.5l-.94 2.06-2.06.94zm10 10l.94 2.06.94-2.06 2.06-.94-2.06-.94-.94-2.06-.94 2.06-2.06.94z\"/><path d=\"M17.41 7.96l-1.37-1.37c-.4-.4-.92-.59-1.43-.59-.52 0-1.04.2-1.43.59L10.3 9.45l-7.72 7.72c-.78.78-.78 2.05 0 2.83L4 21.41c.39.39.9.59 1.41.59.51 0 1.02-.2 1.41-.59l7.78-7.78 2.81-2.81c.8-.78.8-2.07 0-2.86zM5.41 20L4 18.59l7.72-7.72 1.47 1.35L5.41 20z\"/>\n",
              "  </svg>\n",
              "      </button>\n",
              "      \n",
              "  <style>\n",
              "    .colab-df-container {\n",
              "      display:flex;\n",
              "      flex-wrap:wrap;\n",
              "      gap: 12px;\n",
              "    }\n",
              "\n",
              "    .colab-df-convert {\n",
              "      background-color: #E8F0FE;\n",
              "      border: none;\n",
              "      border-radius: 50%;\n",
              "      cursor: pointer;\n",
              "      display: none;\n",
              "      fill: #1967D2;\n",
              "      height: 32px;\n",
              "      padding: 0 0 0 0;\n",
              "      width: 32px;\n",
              "    }\n",
              "\n",
              "    .colab-df-convert:hover {\n",
              "      background-color: #E2EBFA;\n",
              "      box-shadow: 0px 1px 2px rgba(60, 64, 67, 0.3), 0px 1px 3px 1px rgba(60, 64, 67, 0.15);\n",
              "      fill: #174EA6;\n",
              "    }\n",
              "\n",
              "    [theme=dark] .colab-df-convert {\n",
              "      background-color: #3B4455;\n",
              "      fill: #D2E3FC;\n",
              "    }\n",
              "\n",
              "    [theme=dark] .colab-df-convert:hover {\n",
              "      background-color: #434B5C;\n",
              "      box-shadow: 0px 1px 3px 1px rgba(0, 0, 0, 0.15);\n",
              "      filter: drop-shadow(0px 1px 2px rgba(0, 0, 0, 0.3));\n",
              "      fill: #FFFFFF;\n",
              "    }\n",
              "  </style>\n",
              "\n",
              "      <script>\n",
              "        const buttonEl =\n",
              "          document.querySelector('#df-bf08c68e-f0bd-499f-b4f0-d2643e3feb0c button.colab-df-convert');\n",
              "        buttonEl.style.display =\n",
              "          google.colab.kernel.accessAllowed ? 'block' : 'none';\n",
              "\n",
              "        async function convertToInteractive(key) {\n",
              "          const element = document.querySelector('#df-bf08c68e-f0bd-499f-b4f0-d2643e3feb0c');\n",
              "          const dataTable =\n",
              "            await google.colab.kernel.invokeFunction('convertToInteractive',\n",
              "                                                     [key], {});\n",
              "          if (!dataTable) return;\n",
              "\n",
              "          const docLinkHtml = 'Like what you see? Visit the ' +\n",
              "            '<a target=\"_blank\" href=https://colab.research.google.com/notebooks/data_table.ipynb>data table notebook</a>'\n",
              "            + ' to learn more about interactive tables.';\n",
              "          element.innerHTML = '';\n",
              "          dataTable['output_type'] = 'display_data';\n",
              "          await google.colab.output.renderOutput(dataTable, element);\n",
              "          const docLink = document.createElement('div');\n",
              "          docLink.innerHTML = docLinkHtml;\n",
              "          element.appendChild(docLink);\n",
              "        }\n",
              "      </script>\n",
              "    </div>\n",
              "  </div>\n",
              "  "
            ]
          },
          "metadata": {},
          "execution_count": 15
        }
      ]
    },
    {
      "cell_type": "code",
      "source": [
        "df.shape"
      ],
      "metadata": {
        "colab": {
          "base_uri": "https://localhost:8080/"
        },
        "id": "l1Mwbcctyrxt",
        "outputId": "2e16893c-4765-41b6-d9a1-6c6716fc8da6"
      },
      "execution_count": 10,
      "outputs": [
        {
          "output_type": "execute_result",
          "data": {
            "text/plain": [
              "(78, 1)"
            ]
          },
          "metadata": {},
          "execution_count": 10
        }
      ]
    },
    {
      "cell_type": "code",
      "source": [
        "df.to_csv(\"products.csv\")"
      ],
      "metadata": {
        "id": "YOJ0dMBzyux2"
      },
      "execution_count": null,
      "outputs": []
    },
    {
      "cell_type": "code",
      "source": [
        "from sklearn.feature_extraction.text import CountVectorizer\n",
        "cv = CountVectorizer(max_features=5000,stop_words='english')"
      ],
      "metadata": {
        "id": "_A0IoZEQKNYI"
      },
      "execution_count": 11,
      "outputs": []
    },
    {
      "cell_type": "code",
      "source": [
        "vector = cv.fit_transform(df['products']).toarray()\n"
      ],
      "metadata": {
        "id": "oOgbE9tbyzND"
      },
      "execution_count": 16,
      "outputs": []
    },
    {
      "cell_type": "code",
      "source": [
        "from sklearn.metrics.pairwise import cosine_similarity\n"
      ],
      "metadata": {
        "id": "Z_V4-bRYKz7Q"
      },
      "execution_count": 17,
      "outputs": []
    },
    {
      "cell_type": "code",
      "source": [
        "similarity = cosine_similarity(vector)\n"
      ],
      "metadata": {
        "id": "37bfx4TxK2wU"
      },
      "execution_count": 18,
      "outputs": []
    },
    {
      "cell_type": "code",
      "source": [
        "def recommend(product):\n",
        "    index = df[df['products'] == product].index[0]\n",
        "    distances = sorted(list(enumerate(similarity[index])),reverse=True,key = lambda x: x[1])\n",
        "    for i in distances[1:6]:\n",
        "        print(df.iloc[i[0]].products)"
      ],
      "metadata": {
        "id": "5EIjFfGnK5EU"
      },
      "execution_count": 24,
      "outputs": []
    },
    {
      "cell_type": "code",
      "source": [
        "recommend('iphone 14 plus')\n"
      ],
      "metadata": {
        "colab": {
          "base_uri": "https://localhost:8080/"
        },
        "id": "fgNOC0taLGOz",
        "outputId": "fbb09483-1e68-436b-950a-ec1961c65ad4"
      },
      "execution_count": 26,
      "outputs": [
        {
          "output_type": "stream",
          "name": "stdout",
          "text": [
            "iphone 14\n",
            "iphone 14 pro\n",
            "iphone 14 pro max\n",
            "iPhone 9\n",
            "iPhone X\n"
          ]
        }
      ]
    },
    {
      "cell_type": "code",
      "source": [
        "import pickle"
      ],
      "metadata": {
        "id": "a1ruOaI4MpmW"
      },
      "execution_count": 28,
      "outputs": []
    },
    {
      "cell_type": "code",
      "source": [
        "pickle.dump(similarity,open('similarity.pkl','wb'))\n"
      ],
      "metadata": {
        "id": "ZurhSjAULP3v"
      },
      "execution_count": 29,
      "outputs": []
    },
    {
      "cell_type": "code",
      "source": [
        "pickle.dump(df.to_dict(),open('product_dict.pkl','wb'))\n"
      ],
      "metadata": {
        "id": "Mw7BjeaKMmMm"
      },
      "execution_count": 30,
      "outputs": []
    },
    {
      "cell_type": "code",
      "source": [],
      "metadata": {
        "id": "4K8JtPZdMvPv"
      },
      "execution_count": null,
      "outputs": []
    }
  ]
}